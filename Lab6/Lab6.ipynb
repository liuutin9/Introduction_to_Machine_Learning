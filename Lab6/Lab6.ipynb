{
 "cells": [
  {
   "cell_type": "markdown",
   "metadata": {
    "id": "V7Zsk2Cyjcr0"
   },
   "source": [
    "## Import Packages\n",
    "\n",
    "1. To build a recurrent neural network, we start by importing the Dense layer, Activation layer, and Loss function that you implemented in Lab4 & Flatten layer you implemented in Lab5. Ensure the following three files are located in the same directory as this notebook, and follow the instructions to complete the setup:\n",
    "    - Dense.py : Copy the **Dense class** you had implemented in Lab4 to it.\n",
    "    - Activation.py : Copy the **Activation class** you had implemented in Lab4 to it.\n",
    "    - Loss.py : Copy **compute_CCE_loss** function you had implemented in Lab4 to it.\n",
    "    - Flatten.py: Copy **Flatten class** you had implemented in Lab5 to it.\\\n",
    "    Note: you should copy both `forward()` and `backward()` in class `Flatten` in Lab5.\n",
    "\n",
    "\n",
    "⚠️ **WARNING** ⚠️:\n",
    "*   Please do not import any other packages in this lab.\n",
    "*   np.random.seed(seed) is used to keep all the random function calls consistent. It will help us grade your work. Please don't change the seed.\n",
    "\n",
    "❗ **Important** ❗: Please do not change the code outside this code bracket.\n",
    "```\n",
    "### START CODE HERE ###\n",
    "...\n",
    "### END CODE HERE ###\n",
    "```\n",
    "\n"
   ]
  },
  {
   "cell_type": "markdown",
   "metadata": {
    "id": "PHkPrxmpjkQB"
   },
   "source": [
    "### Mount Google Drive (optional)"
   ]
  },
  {
   "cell_type": "code",
   "execution_count": 1,
   "metadata": {
    "colab": {
     "base_uri": "https://localhost:8080/"
    },
    "id": "6-arb65yjiEf",
    "outputId": "9cd1c8d5-7cfa-4cc4-b3c7-4510f5a97cf8"
   },
   "outputs": [],
   "source": [
    "### START CODE HERE ###\n",
    "# from google.colab import drive\n",
    "import os\n",
    "# drive.mount('/content/drive')\n",
    "# os.chdir('YOUR PATH')\n",
    "### END CODE HERE ###"
   ]
  },
  {
   "cell_type": "code",
   "execution_count": 2,
   "metadata": {
    "id": "poIfFIK0juEr"
   },
   "outputs": [],
   "source": [
    "###### import your Lab4 & Lab5 code (Don't change this part) ######\n",
    "from Dense import Dense\n",
    "from Activation import Activation\n",
    "from Loss import compute_CCE_loss, compute_MSE_loss\n",
    "from Flatten import Flatten\n",
    "##################################\n",
    "\n",
    "import numpy as np\n",
    "import matplotlib.pyplot as plt\n",
    "from tqdm import tqdm\n",
    "import pandas as pd\n",
    "\n",
    "outputs = {}"
   ]
  },
  {
   "cell_type": "markdown",
   "metadata": {
    "id": "KAxzqsKx8bRL"
   },
   "source": [
    "# Basic Part"
   ]
  },
  {
   "cell_type": "markdown",
   "metadata": {
    "id": "PhkjTLnlPNjq"
   },
   "source": [
    "## RNN Class (30%)\n",
    "The RNN class implements a simple Recurrent Neural Network (RNN) layer. This class includes methods for initializing parameters, performing the forward pass, computing gradients during the backward pass, and updating the weights.\n",
    "\n",
    "Structure overview:\n",
    "<figure> <img src=\"https://imgur.com/nU7xrBe.png\" width=\"580\" height=\"400\">\n",
    "</figure>\n",
    "RNN connection:\n",
    "<figure>\n",
    "<img src=\"https://imgur.com/4JQX0se.png\" width=\"500\" height=\"250\">\n",
    "</figure>\n",
    "Data insights:\n",
    "<figure> <img src=\"https://imgur.com/c2MI3mj.png\" width=\"400\" height=\"220\">\n",
    "</figure>\n",
    "In each neuron:\n",
    "<figure> <img src=\"https://imgur.com/luXS4zv.png\" width=\"300\" height=\"220\">\n",
    "</figure>\n",
    "\n",
    "1.   **Initializaon**\n",
    "\n",
    "    *   `input_size`: The number of input features for each time step.\n",
    "    *   `rnn_units`: The number of units (neurons) in the RNN layer.\n",
    "    *   `seed`: A random seed for weight initialization to ensure reproducibility.\n",
    "\n",
    "2.   **Initialize parameters** (3%)\n",
    "    * `Wx`: The weight matrix for the input to hidden connections. It has a shape of `(rnn_units, input_size)`\n",
    "    * `Wh`: The weight matrix for the hidden to hidden connections. It has a shape of `(rnn_units, rnn_units)`\n",
    "    * `bh`: The bias vector for the hidden state. It has a shape of `(rnn_units, 1)`, where rnn_units is the number of units in the RNN layer.\n",
    "3.  **Forward** (12%) \\\n",
    "* `X`: Input data of shape `(batch_size, timesteps, input_size)`\n",
    "* The forward pass computes the hidden state `h_t` (shape of `(batch_size, self.rnn_units)`)at each time step `t` using the following formula:\n",
    "$ h_t = \\tanh(W_x \\cdot x_t + W_h \\cdot h_{t-1} + b_h)$\n",
    "    * $W_x$ is the weight matrix for the input to hidden connections.\n",
    "    * $W_h$ is the weight matrix for the hidden to hidden connections.\n",
    "    * $b_h$ is the bias vector.\n",
    "    * $x_t$ is the input at time step t.\n",
    "    * $h_{t-1}$ is the hidden state from the previous time step.\n",
    "    * $\\tanh$ is the hyperbolic tangent activation function.\n",
    "* Output would be shape of `(batch_size, rnn_units)`\n",
    "4. **Backward** (15%) \\\n",
    "Reference (Backpropagation Through Time):\n",
    "https://www.pycodemates.com/2023/08/backpropagation-through-time-explained-with-derivations.html\n",
    "* `dH`: Gradient of the loss with respect to the hidden state, typically of shape `(batch_size, rnn_units, 1)`.\n",
    "* The backward pass computes the gradients of the loss with respect to the weights and biases using the following formulas:\n",
    "    * Gradient of the loss with respect to the hidden state(derivative of `tanh`):\\\n",
    "    $\\delta_t = (1 - h_t^2) \\cdot \\delta_{t+1}$\n",
    "        * $\\delta_t$ is the gradient of the loss with respect to the hidden state at time step t.\n",
    "        * $h_t$ is the hidden state at time step t\n",
    "    * Gradients with respect to the weights and biases (accumulate the gradients over all time steps):\n",
    "        1. $\\frac{\\partial L}{\\partial W_x} = ∑_{t=0}^{timesteps} \\delta_t^T \\cdot x_t$\n",
    "        2. $\\frac{\\partial L}{\\partial W_h} = ∑_ {t=0}^{timesteps} \\delta_t^T \\cdot h_{t-1}$\n",
    "        3. $\\frac{\\partial L}{\\partial b_h} = ∑_{t=0}^{timesteps} \\delta_t^T$\n",
    "        * $\\frac{\\partial L}{\\partial W_x}$ is the gradient of the loss with respect to the input to hidden weights.\n",
    "        * $\\frac{\\partial L}{\\partial W_h}$ is the gradient of the loss with respect to the hidden to hidden weights.\n",
    "        * $\\frac{\\partial L}{\\partial b_h}$ is the gradient of the loss with respect to the hidden bias.\n",
    "        * $x_t$ is the input at time step t.\n",
    "        * $h_{t-1}$ is the hidden state from the previous time step.\n",
    "    * Gradient with respect to the previous hidden state:\n",
    "    $\\frac{\\partial L}{\\partial h_{t-1}} = \\delta_t \\cdot W_h$\n",
    "    * Then divide each gradient by `batch_size`.\n",
    "    * Gradient clipping (optional) is recommended in RNN since RNN rely on backpropagation through time where data might contain large timesteps and it might cause gradient explosion or vanishing. **Note**: You can't do gradient clipping in the function testing (`test_baward()`)\n"
   ]
  },
  {
   "cell_type": "code",
   "execution_count": 3,
   "metadata": {
    "id": "Ry3gZ4hUJwUn"
   },
   "outputs": [],
   "source": [
    "class RNN():\n",
    "    def __init__(self, input_size, rnn_units, seed=1):\n",
    "        \"\"\"\n",
    "        Initialize the SimpleRNN layer.\n",
    "\n",
    "        Parameters:\n",
    "        input_size (int): Number of input features.\n",
    "        rnn_units (int): Number of units in the RNN layer.\n",
    "        seed (int): Random seed for weight initialization.\n",
    "        \"\"\"\n",
    "        self.input_size = input_size\n",
    "        self.rnn_units = rnn_units\n",
    "        self.seed = seed\n",
    "        self.initialize_parameters()\n",
    "\n",
    "    def initialize_parameters(self):\n",
    "        \"\"\"\n",
    "        Initialize the weights and biases for the RNN layer.\n",
    "        \"\"\"\n",
    "        np.random.seed(self.seed)\n",
    "\n",
    "        ### START CODE HERE ###\n",
    "        # Multiply by 0.01 is for testing reason.\n",
    "        self.Wx = np.random.randn(self.rnn_units, self.input_size) * 0.01 # Input to hidden weights , with shape of (rnn_units, input_size).\n",
    "        self.Wh = np.random.randn(self.rnn_units, self.rnn_units) * 0.01  # Hidden to hidden weights, with shape of (rnn_units, rnn_units).\n",
    "        self.bh = np.zeros((self.rnn_units, 1))                           # Hidden bias, with shape of (rnn_units, 1).\n",
    "        ### END CODE HERE ###\n",
    "\n",
    "    def forward(self, X):\n",
    "        \"\"\"\n",
    "        Perform the forward pass through the RNN layer.\n",
    "\n",
    "        Parameters:\n",
    "        X (ndarray): Input data of shape (batch_size, timesteps, input_size).\n",
    "\n",
    "        Returns:\n",
    "        ndarray: Output of the RNN layer (hidden state).\n",
    "        \"\"\"\n",
    "        batch_size, timesteps, _ = X.shape\n",
    "        ### START CODE HERE ###\n",
    "        self.h = np.zeros((batch_size, self.rnn_units)) # Initialize hidden state, with shape of (batch_size, self.rnn_units).\n",
    "        self.hs = []                                    # Store hidden states for backward pass, list of self.h.\n",
    "        ### END CODE HERE ###\n",
    "\n",
    "        self.xs = []  # Store inputs for backward pass\n",
    "\n",
    "        for t in range(timesteps):\n",
    "            ### START CODE HERE ###\n",
    "            x_t = X[:, t, :] # Get input at time step t for all data in X.\n",
    "            self.xs.append(x_t)\n",
    "            self.h = np.tanh(x_t @ self.Wx.T + self.h @ self.Wh.T + self.bh.T) # Update hidden state according to the formula of h_t.\n",
    "            self.hs.append(self.h)\n",
    "            ### END CODE HERE ###\n",
    "\n",
    "        return self.h\n",
    "\n",
    "\n",
    "    def backward(self, dH):\n",
    "        \"\"\"\n",
    "        Perform the backward pass through the RNN layer.\n",
    "\n",
    "        Parameters:\n",
    "        dH (ndarray): Gradient of the loss with respect to the hidden state.\n",
    "        clip_value (float): Value to clip the gradients to prevent exploding gradients.\n",
    "\n",
    "        Returns:\n",
    "        ndarray: Gradient of the loss with respect to the input.\n",
    "        \"\"\"\n",
    "        batch_size, _ = dH.shape\n",
    "        ### START CODE HERE ###\n",
    "        self.dL_dWx = np.zeros_like(self.Wx) # Initialized with same shape as Wx.\n",
    "        self.dL_dWh = np.zeros_like(self.Wh) # Initialized with same shape as Wh.\n",
    "        self.dL_dbh = np.zeros_like(self.bh) # Initialized with same shape as bh.\n",
    "        ### END CODE HERE ###\n",
    "        dL_dh = dH\n",
    "\n",
    "        for t in reversed(range(len(self.hs))):\n",
    "            x_t = self.xs[t]  # Get input at time step t\n",
    "            h = self.hs[t]\n",
    "            h_prev = self.hs[t-1] if t > 0 else np.zeros_like(h)\n",
    "            ### START CODE HERE ###\n",
    "            dL_dh_raw = (1 - h**2) * dL_dh                                     # Derivative of tanh\n",
    "            self.dL_dWx = self.dL_dWx + (dL_dh_raw.T @ x_t)                    # Gradient w.r.t. Wx\n",
    "            self.dL_dWh = self.dL_dWh + dL_dh_raw.T @ h_prev                   # Gradient w.r.t. Wh\n",
    "            self.dL_dbh = self.dL_dbh + dL_dh_raw.T @ np.ones((batch_size, 1)) # Gradient w.r.t. bh\n",
    "            dL_dh = dL_dh_raw @ self.Wh                                        # Gradient w.r.t. previous hidden state (Wh)\n",
    "            ### END CODE HERE ###\n",
    "\n",
    "        ### START CODE HERE ###\n",
    "        # Average gradients over the batch.\n",
    "        self.dL_dWx = self.dL_dWx / batch_size\n",
    "        self.dL_dWh = self.dL_dWh / batch_size\n",
    "        self.dL_dbh = self.dL_dbh / batch_size\n",
    "        ### END CODE HERE ###\n",
    "\n",
    "        ### START CODE HERE ###\n",
    "        # Gradient part (optional), you can't run this part while testing the backward function !!!\n",
    "        # clip_value = 2.0\n",
    "        # Clip gradients to prevent exploding gradients\n",
    "        # np.clip(self.dL_dWx, -clip_value, clip_value, out=self.dL_dWx)\n",
    "        # np.clip(self.dL_dWh, -clip_value, clip_value, out=self.dL_dWh)\n",
    "        # np.clip(self.dL_dbh, -clip_value, clip_value, out=self.dL_dbh)\n",
    "        ### END CODE HERE ###\n",
    "\n",
    "        return dL_dh\n",
    "\n",
    "    def update(self, learning_rate):\n",
    "        \"\"\"\n",
    "        Update the weights and biases using the computed gradients.\n",
    "\n",
    "        Parameters:\n",
    "        learning_rate (float): Learning rate for weight updates.\n",
    "        \"\"\"\n",
    "        ### START CODE HERE ###\n",
    "        # Update each weights.\n",
    "        self.Wx = self.Wx - learning_rate * self.dL_dWx\n",
    "        self.Wh = self.Wh - learning_rate * self.dL_dWh\n",
    "        self.bh = self.bh - learning_rate * self.dL_dbh\n",
    "        ### END CODE HERE ###"
   ]
  },
  {
   "cell_type": "markdown",
   "metadata": {
    "id": "ZkQSHtRPMb73"
   },
   "source": [
    "### Functions testing\n"
   ]
  },
  {
   "cell_type": "markdown",
   "metadata": {
    "id": "KKZFZhPfP9z-"
   },
   "source": [
    "#### `initialize_parameter` function"
   ]
  },
  {
   "cell_type": "code",
   "execution_count": 4,
   "metadata": {
    "id": "F6x4VR14P9X3"
   },
   "outputs": [
    {
     "name": "stdout",
     "output_type": "stream",
     "text": [
      "Wx shape: (3, 5)\n",
      "Wh shape: (3, 3)\n",
      "bh shape: (3, 1)\n"
     ]
    }
   ],
   "source": [
    "def test_initialization(save_to_output = False):\n",
    "    input_size = 5\n",
    "    rnn_units = 3\n",
    "    rnn = RNN(input_size, rnn_units)\n",
    "    print(\"Wx shape:\", rnn.Wx.shape)\n",
    "    print(\"Wh shape:\", rnn.Wh.shape)\n",
    "    print(\"bh shape:\", rnn.bh.shape)\n",
    "    if save_to_output == True:\n",
    "        outputs['RNN_initialization'] = {\"Wx shape\": rnn.Wx.shape, \"Wh shape\": rnn.Wh.shape, \"bh shape\": rnn.bh.shape}\n",
    "test_initialization(True)"
   ]
  },
  {
   "cell_type": "markdown",
   "metadata": {
    "id": "TPEe5c4NQigx"
   },
   "source": [
    "Expected output:\n",
    "\n",
    "|Output|Value|\n",
    "|---|---|\n",
    "|Wx shape:|(3, 5)|\n",
    "|Wh shape:|(3, 3)|\n",
    "|bh shape:|(3, 1)|"
   ]
  },
  {
   "cell_type": "markdown",
   "metadata": {
    "id": "Oz_VET-YNtla"
   },
   "source": [
    "#### `forward` function\n"
   ]
  },
  {
   "cell_type": "code",
   "execution_count": 5,
   "metadata": {
    "id": "-7svLiJmFdEB"
   },
   "outputs": [
    {
     "name": "stdout",
     "output_type": "stream",
     "text": [
      "Input shape: (2, 4, 5)\n",
      "Input:\n",
      "[[[ 1.62434536 -0.61175641 -0.52817175 -1.07296862  0.86540763]\n",
      "  [-2.3015387   1.74481176 -0.7612069   0.3190391  -0.24937038]\n",
      "  [ 1.46210794 -2.06014071 -0.3224172  -0.38405435  1.13376944]\n",
      "  [-1.09989127 -0.17242821 -0.87785842  0.04221375  0.58281521]]\n",
      "\n",
      " [[-1.10061918  1.14472371  0.90159072  0.50249434  0.90085595]\n",
      "  [-0.68372786 -0.12289023 -0.93576943 -0.26788808  0.53035547]\n",
      "  [-0.69166075 -0.39675353 -0.6871727  -0.84520564 -0.67124613]\n",
      "  [-0.0126646  -1.11731035  0.2344157   1.65980218  0.74204416]]]\n",
      "Output shape of RNN layer: (2, 3)\n",
      "Output of the RNN layer (hidden state):\n",
      "[[-0.00873835  0.02641052 -0.00287992]\n",
      " [-0.00596289 -0.01742189  0.02418844]]\n"
     ]
    }
   ],
   "source": [
    "def test_forward(seed, save_to_output = False):\n",
    "    input_size = 5\n",
    "    rnn_units = 3\n",
    "    batch_size = 2\n",
    "    timesteps = 4\n",
    "    # Initialize the RNN layer\n",
    "    rnn = RNN(input_size, rnn_units)\n",
    "    # Create a sample input of shape (batch_size, timesteps, input_size)\n",
    "    np.random.seed(seed)   # Don't change the seed!\n",
    "    X = np.random.randn(batch_size, timesteps, input_size)\n",
    "    # Perform the forward pass\n",
    "    output = rnn.forward(X)\n",
    "\n",
    "    if save_to_output == False:\n",
    "        # Print the output\n",
    "        print(\"Input shape:\", X.shape)\n",
    "        print(\"Input:\")\n",
    "        print(X)\n",
    "        print(\"Output shape of RNN layer:\", output.shape)\n",
    "        print(\"Output of the RNN layer (hidden state):\")\n",
    "        print(output)\n",
    "\n",
    "    if save_to_output == True:\n",
    "        outputs['RNN_forward'] = {\"X shape\": X.shape, \"X\": X, \"Output shape\": output.shape, \"Output\": output}\n",
    "\n",
    "# Run the test with seed 1 to compare with expected outputs.\n",
    "test_forward(1)\n",
    "\n",
    "# Run with seed 42 and save the answer.\n",
    "test_forward(42, True)"
   ]
  },
  {
   "cell_type": "markdown",
   "metadata": {
    "id": "GxLx95MZGEqX"
   },
   "source": [
    "Expected output of `forward`:\n",
    "\n",
    "| Output | Value |\n",
    "|---|---|\n",
    "| Input shape | (2, 4, 5) |\n",
    "| Input | `[[[ 1.62434536 -0.61175641 -0.52817175 -1.07296862  0.86540763]`<br>  `[-2.3015387   1.74481176 -0.7612069   0.3190391  -0.24937038]`<br>  `[ 1.46210794 -2.06014071 -0.3224172  -0.38405435  1.13376944]`<br>  `[-1.09989127 -0.17242821 -0.87785842  0.04221375  0.58281521]]`<br><br> `[[-1.10061918  1.14472371  0.90159072  0.50249434  0.90085595]`<br>  `[-0.68372786 -0.12289023 -0.93576943 -0.26788808  0.53035547]`<br>  `[-0.69166075 -0.39675353 -0.6871727  -0.84520564 -0.67124613]`<br>  `[-0.0126646  -1.11731035  0.2344157   1.65980218  0.74204416]]]]` |\n",
    "| Output shape of RNN layer | (2, 3) |\n",
    "| Output of the RNN layer (hidden state) | `[[-0.00873835  0.02641052 -0.00287992]`<br> `[-0.00596289 -0.01742189  0.02418844]]` |"
   ]
  },
  {
   "cell_type": "markdown",
   "metadata": {
    "id": "OTRcUEWzN143"
   },
   "source": [
    "#### `backward` function"
   ]
  },
  {
   "cell_type": "code",
   "execution_count": 6,
   "metadata": {
    "id": "hc5rkLYhJHYd"
   },
   "outputs": [
    {
     "name": "stdout",
     "output_type": "stream",
     "text": [
      "dH shape:  (2, 3)\n",
      "dH:\n",
      "[[-0.19183555 -0.88762896 -0.74715829]\n",
      " [ 1.6924546   0.05080775 -0.63699565]]\n",
      "dL_dX shape: (2, 3)\n",
      "Gradient w.r.t. input (dL_dX):\n",
      "[[-1.30293142e-08  5.55316892e-09 -2.93987480e-08]\n",
      " [ 8.78019041e-09  2.41595285e-08 -1.33357681e-08]]\n",
      "dL_dWx shape: (3, 5)\n",
      "Gradient w.r.t. Wx (dL_dWx):\n",
      "[[ 0.09855041 -0.91665683  0.29245483  1.41272981  0.57684949]\n",
      " [ 0.48200032  0.06164319  0.40009246  0.02920006 -0.24340623]\n",
      " [ 0.42661386  0.4160692   0.25830352 -0.53769917 -0.44331323]]\n",
      "dL_dWh shape: (3, 3)\n",
      "Gradient w.r.t. Wh (dL_dWh):\n",
      "[[-0.00663169  0.01738478 -0.0106337 ]\n",
      " [-0.02325593  0.03069429 -0.03469078]\n",
      " [-0.01936184  0.02200992 -0.02853306]]\n",
      "dL_dbh shape: (3, 1)\n",
      "Gradient w.r.t. bh (dL_dbh):\n",
      "[[ 0.73406116]\n",
      " [-0.42812618]\n",
      " [-0.69714697]]\n"
     ]
    }
   ],
   "source": [
    "def test_backward(seed, save_to_output = False):\n",
    "    input_size = 5\n",
    "    rnn_units = 3\n",
    "    batch_size = 2\n",
    "    timesteps = 4\n",
    "\n",
    "    # Initialize the RNN layer\n",
    "    rnn = RNN(input_size, rnn_units)\n",
    "    np.random.seed(seed)   # Don't change the seed!\n",
    "    # Create a sample input of shape (batch_size, timesteps, input_size)\n",
    "    X = np.random.randn(batch_size, timesteps, input_size)\n",
    "    # Perform the forward pass\n",
    "    rnn.forward(X)\n",
    "    # Create a sample gradient of the loss with respect to the hidden state\n",
    "    dH = np.random.randn(batch_size, rnn_units)\n",
    "    # Perform the backward pass\n",
    "    dL_dX = rnn.backward(dH)\n",
    "    if save_to_output == False:\n",
    "        print(\"dH shape: \", dH.shape)\n",
    "        print(\"dH:\")\n",
    "        print(dH)\n",
    "        # Print the gradients\n",
    "        print(\"dL_dX shape:\", dL_dX.shape)\n",
    "        print(\"Gradient w.r.t. input (dL_dX):\")\n",
    "        print(dL_dX)\n",
    "        print(\"dL_dWx shape:\", rnn.dL_dWx.shape)\n",
    "        print(\"Gradient w.r.t. Wx (dL_dWx):\")\n",
    "        print(rnn.dL_dWx)\n",
    "        print(\"dL_dWh shape:\", rnn.dL_dWh.shape)\n",
    "        print(\"Gradient w.r.t. Wh (dL_dWh):\")\n",
    "        print(rnn.dL_dWh)\n",
    "        print(\"dL_dbh shape:\", rnn.dL_dbh.shape)\n",
    "        print(\"Gradient w.r.t. bh (dL_dbh):\")\n",
    "        print(rnn.dL_dbh)\n",
    "\n",
    "    if save_to_output == True:\n",
    "        outputs['RNN_backward'] = {\"dH shape\": dH.shape, \"dH\": dH, \"dL_dX shape\": dL_dX.shape, \"dL_dX\": dL_dX, \"dL_dWx shape\": rnn.dL_dWx.shape,\n",
    "                                   \"dL_dWx\": rnn.dL_dWx, \"dL_dWh shape\": rnn.dL_dWh.shape, \"dL_dWh\": rnn.dL_dWh, \"dL_dbh shape\": rnn.dL_dbh.shape, \"dL_dbh\": rnn.dL_dbh}\n",
    "\n",
    "# Run the test with seed 1 to compare with expected outputs.\n",
    "test_backward(1)\n",
    "\n",
    "# Run with seed 42 and save the answer.\n",
    "test_backward(42, True)"
   ]
  },
  {
   "cell_type": "markdown",
   "metadata": {
    "id": "l0rtq6lDJSx8"
   },
   "source": [
    "Expected output:\n",
    "\n",
    "| Output | Value |\n",
    "|---|---|\n",
    "|dH shape:|(2, 3)|\n",
    "|dH:|`[[-0.19183555 -0.88762896 -0.74715829]`<br>`[ 1.6924546   0.05080775 -0.63699565]]`|\n",
    "|dL_dX shape:| (2, 3)|\n",
    "|Gradient w.r.t. input (dL_dX):| `[[-1.30293142e-08  5.55316892e-09 -2.93987480e-08]`<br>`[ 8.78019041e-09  2.41595285e-08 -1.33357681e-08]]`|\n",
    "|dL_dWx shape:| (3, 5)|\n",
    "|Gradient w.r.t. Wx (dL_dWx):|`[[ 0.09855041 -0.91665683  0.29245483  1.41272981  0.57684949]`<br>`[ 0.48200032  0.06164319  0.40009246  0.02920006 -0.24340623]`<br>`[ 0.42661386  0.4160692   0.25830352 -0.53769917 -0.44331323]]`|\n",
    "|dL_dWh shape:| (3, 3)|\n",
    "|Gradient w.r.t. Wh (dL_dWh):|`[[-0.00663169  0.01738478 -0.0106337 ]`<br>`[-0.02325593  0.03069429 -0.03469078]`<br>`[-0.01936184  0.02200992 -0.02853306]]`|\n",
    "|dL_dbh shape:| (3, 1)|\n",
    "|Gradient w.r.t. bh (dL_dbh):|`[[ 0.73406116]`<br>`[-0.42812618]`<br>`[-0.69714697]]`|"
   ]
  },
  {
   "cell_type": "markdown",
   "metadata": {
    "id": "3_--VLgVCdpi"
   },
   "source": [
    "## Model class (10%)\n",
    "The `Model` class provides a framework for building and training neural networks.\n",
    "1.   `add()` is just like the function in previous Lab, we can call `model.add( )` to sequentially add a layer into the model.\n",
    "2.   `forward()` performs the forward propagation of data through the layers, calculating predictions\n",
    "3.   In `backward()`, we have to check if the activation function is *softmax* to make sure we call the right `backward()`.\n",
    "4.   `train()` function will be used to train the model, here, we can decide which loss function `BCE` or `MSE` we want to train with. And also calculate the loss for validation data.\n",
    "5. `plot_losses()` function can show the history of the training and validation loss to see if the training works."
   ]
  },
  {
   "cell_type": "code",
   "execution_count": 7,
   "metadata": {
    "id": "LlyznHZjCc0K"
   },
   "outputs": [],
   "source": [
    "class Model():\n",
    "    def __init__(self):\n",
    "        self.layers = []\n",
    "\n",
    "    def add(self, layer):\n",
    "        \"\"\"\n",
    "        Sequentially add a layer into the model.\n",
    "\n",
    "        Parameters:\n",
    "        layer: Different layers class.\n",
    "        \"\"\"\n",
    "        ### START CODE HERE ###\n",
    "        self.layers.append(layer)\n",
    "        ### END CODE HERE ###\n",
    "\n",
    "    def forward(self, X):\n",
    "        for layer in self.layers:\n",
    "            if layer.__class__.__name__ == 'RNN':\n",
    "                if len(X.shape) < 3:                                # If the RNN layer is stacked after another RNN layer.\n",
    "                    ### START CODE HERE ###\n",
    "                    X = np.expand_dims(X, axis=1)                # We have to treat the output size of first layer (rnn_units) as the feature size (input_size) of the second layer.\n",
    "                    ### END CODE HERE ###\n",
    "                X = layer.forward(X)\n",
    "            else:\n",
    "                X = layer.forward(X)\n",
    "        return X\n",
    "\n",
    "    def backward(self, dA, Y):\n",
    "        for layer in reversed(self.layers):\n",
    "            if isinstance(layer, Activation) and layer.activation_function == \"softmax\":\n",
    "                ### START CODE HERE ###\n",
    "                dA = layer.backward(Y=Y)                   # softmax activation backward.\n",
    "                ### END CODE HERE ###\n",
    "            else:\n",
    "                ### START CODE HERE ###\n",
    "                dA = layer.backward(dA)\n",
    "                ### END CODE HERE ###\n",
    "        return dA\n",
    "\n",
    "    def update(self, learning_rate):\n",
    "        for layer in self.layers:       # Update for every layers.\n",
    "            ### START CODE HERE ###\n",
    "            if layer.__class__.__name__ in ['RNN', 'Dense']:\n",
    "                layer.update(learning_rate)\n",
    "            ### END CODE HERE ###\n",
    "\n",
    "    def train(self, X_train, y_train, X_val, y_val, epochs=10, learning_rate=0.001, batch_size = 64, loss_function='mse', lr_decay_step=80, lr_decay=1):\n",
    "        self.train_losses = []  # Initialize a list to store training losses\n",
    "        self.val_losses = []  # Initialize a list to store validation losses\n",
    "        for epoch in range(epochs):\n",
    "            os.system('clear')\n",
    "            total_loss = 0\n",
    "            ### START CODE HERE ###\n",
    "            num_batches = X_train.shape[0] // batch_size    # Calculate the number of batches\n",
    "            ### END CODE HERE ###\n",
    "\n",
    "            with tqdm(total=num_batches, desc=f\"Epoch {epoch + 1}/{epochs}\", unit=\"batch\") as pbar:\n",
    "                for batch_idx in range(num_batches):\n",
    "\n",
    "                    ### START CODE HERE ###\n",
    "                    # Get the batch data\n",
    "                    X_batch = X_train[batch_idx * batch_size:(batch_idx + 1) * batch_size]\n",
    "                    y_batch = y_train[batch_idx * batch_size:(batch_idx + 1) * batch_size]\n",
    "                    ### END CODE HERE ###\n",
    "\n",
    "                    ### START CODE HERE ###\n",
    "                    # 1. Forward to get the prediction.\n",
    "                    # 2. Calculate the loss according to your parameters ('cce' or 'mse').\n",
    "                    # 3. Calculate dA.\n",
    "                    # 4. backward with the calculated dA.\n",
    "                    # 5. update the parameters.\n",
    "                    y_pred = self.forward(X_batch)\n",
    "                    # Compute loss\n",
    "                    if loss_function == 'cce':\n",
    "                        loss = compute_CCE_loss(y_pred, y_batch)\n",
    "                    elif loss_function == 'mse':\n",
    "                        loss = compute_MSE_loss(y_pred, y_batch)\n",
    "                    else:\n",
    "                        raise ValueError(\"Unsupported loss function\")\n",
    "\n",
    "                    total_loss += loss\n",
    "                    dA = y_pred - y_batch\n",
    "                    self.backward(dA, y_batch)\n",
    "                    self.update(learning_rate)\n",
    "                    ### END CODE HERE ###\n",
    "\n",
    "                    # Update the progress bar and loss every 5 iterations\n",
    "                    if (batch_idx + 1) % 5 == 0:\n",
    "                        pbar.set_postfix(loss=total_loss / (batch_idx + 1))\n",
    "                    pbar.update(1)  # Increment the progress bar by 1 unit\n",
    "\n",
    "                # Handle the remaining examples that do not fit into a full batch\n",
    "                if len(X_train) % batch_size != 0:\n",
    "\n",
    "                    # Get the remaining data\n",
    "                    ### START CODE HERE ###\n",
    "                    X_batch = X_train[batch_idx * batch_size:]\n",
    "                    y_batch = y_train[batch_idx * batch_size:]\n",
    "                    ### END CODE HERE ###\n",
    "\n",
    "                    ### START CODE HERE ###\n",
    "                    # Same as above in batch\n",
    "                    y_pred = self.forward(X_batch)\n",
    "                    # Compute loss\n",
    "                    if loss_function == 'cce':\n",
    "                        loss = compute_CCE_loss(y_pred, y_batch)\n",
    "                    elif loss_function == 'mse':\n",
    "                        loss = compute_MSE_loss(y_pred, y_batch)\n",
    "                    else:\n",
    "                        raise ValueError(\"Unsupported loss function\")\n",
    "\n",
    "                    total_loss += loss\n",
    "                    dA = y_pred - y_batch\n",
    "                    self.backward(dA, y_batch)\n",
    "                    self.update(learning_rate)\n",
    "                    ### END CODE HERE ###\n",
    "\n",
    "            ### START CODE HERE ###\n",
    "            avg_train_loss = total_loss / num_batches       # Calculate the average loss over batches.\n",
    "            if (epoch + 1) % lr_decay_step == 0: learning_rate *= lr_decay\n",
    "            ### END CODE HERE ###\n",
    "\n",
    "            self.train_losses.append(avg_train_loss)\n",
    "            print(f'Epoch {epoch + 1}/{epochs}, Training Loss: {avg_train_loss}')\n",
    "\n",
    "            # Validation part\n",
    "            ### START CODE HERE ###\n",
    "            # 1. Get the prediction\n",
    "            # 2. compute the loss ('mse', 'cce').\n",
    "            y_pred = self.forward(X_val)\n",
    "\n",
    "            if loss_function == 'cce':\n",
    "                val_loss = compute_CCE_loss(y_pred, y_val)\n",
    "            elif loss_function == 'mse':\n",
    "                val_loss = compute_MSE_loss(y_pred, y_val)\n",
    "            ### END CODE HERE ###\n",
    "\n",
    "            self.val_losses.append(val_loss)\n",
    "            print(f'Epoch {epoch + 1}/{epochs}, Validation Loss: {val_loss}')\n",
    "\n",
    "    def predict(self, X):\n",
    "        return self.forward(X)\n",
    "\n",
    "    def plot_losses(self):\n",
    "        plt.plot(self.train_losses, label='Training Loss')\n",
    "        plt.plot(self.val_losses, label='Validation Loss')\n",
    "        plt.xlabel('Epoch')\n",
    "        plt.ylabel('Loss')\n",
    "        plt.legend()"
   ]
  },
  {
   "cell_type": "markdown",
   "metadata": {
    "id": "icEnOl_kR_r5"
   },
   "source": [
    "### `Model` class testing"
   ]
  },
  {
   "cell_type": "code",
   "execution_count": 8,
   "metadata": {
    "id": "B2ON5fmPSCSj"
   },
   "outputs": [
    {
     "name": "stdout",
     "output_type": "stream",
     "text": [
      "AL:  [[0.50002597]\n",
      " [0.50011082]\n",
      " [0.49998505]]\n",
      "dA_prev:  [[ 1.62378331e-09  3.84694676e-09  6.02625343e-09 -1.21805669e-08]\n",
      " [ 1.62165475e-09  3.84752280e-09  6.02247634e-09 -1.21748332e-08]\n",
      " [ 1.62368851e-09  3.84622277e-09  6.02587086e-09 -1.21793784e-08]]\n",
      "Wx of RNN:  [[ 0.01609996]\n",
      " [-0.00598851]\n",
      " [-0.00519148]\n",
      " [-0.01059058]]\n",
      "Wh of RNN:  [[ 0.00865366 -0.02301519  0.01744827 -0.00761178]\n",
      " [ 0.00319076 -0.00249388  0.01462095 -0.02060167]\n",
      " [-0.00322391 -0.00384067  0.0113376  -0.0109991 ]\n",
      " [-0.00172383 -0.00877879  0.00042198  0.00582784]]\n",
      "bh of RNN:  [[ 0.00017288]\n",
      " [-0.00015564]\n",
      " [-0.00010827]\n",
      " [-0.00016452]]\n"
     ]
    }
   ],
   "source": [
    "def test_model_class(seed, save_to_output = False):\n",
    "    np.random.seed(seed)\n",
    "    input = np.random.randn(3, 3, 1)\n",
    "    Y = np.expand_dims(np.array([1,0,1]),-1)\n",
    "\n",
    "    model = Model()\n",
    "    model.add(RNN(1, 4))\n",
    "    model.add(RNN(4, 4))\n",
    "    model.add(Dense(4, 1))\n",
    "    model.add(Activation(\"sigmoid\", None))\n",
    "\n",
    "    AL = model.forward(input)\n",
    "    dA_prev = model.backward(AL, Y=Y)\n",
    "    model.update(0.1)\n",
    "    if save_to_output == False:\n",
    "        print(\"AL: \", AL)\n",
    "        print(\"dA_prev: \", dA_prev)\n",
    "        print(\"Wx of RNN: \", model.layers[0].Wx)\n",
    "        print(\"Wh of RNN: \", model.layers[0].Wh)\n",
    "        print(\"bh of RNN: \", model.layers[0].bh)\n",
    "\n",
    "    if save_to_output == True:\n",
    "        outputs['Model_class'] = {\"AL\": AL, \"dA_prev\": dA_prev, \"Wx of RNN\": model.layers[0].Wx, \"Wh of RNN\": model.layers[0].Wh, \"bh of RNN\": model.layers[0].bh}\n",
    "\n",
    "# Run the test with seed 1 to compare with expected outputs.\n",
    "test_model_class(1)\n",
    "\n",
    "# Run with seed 42 and save the answer.\n",
    "test_model_class(42, True)"
   ]
  },
  {
   "cell_type": "markdown",
   "metadata": {
    "id": "Seg7OO12VOvh"
   },
   "source": [
    "Expected output:\n",
    "\n",
    "|Output|Value|\n",
    "|---|---|\n",
    "|AL:| `[[0.50002597]`<br>`[0.50011082]`<br>`[0.49998505]]`|\n",
    "|dA_prev:|`[[ 1.62378331e-09  3.84694676e-09  6.02625343e-09 -1.21805669e-08]`<br>`[ 1.62165475e-09  3.84752280e-09  6.02247634e-09 -1.21748332e-08]`<br>`[ 1.62368851e-09  3.84622277e-09  6.02587086e-09 -1.21793784e-08]]`|\n",
    "|Wx of RNN:| `[[ 0.01609996]`<br>`[-0.00598851]`<br>`[-0.00519148]`<br>`[-0.01059058]]`|\n",
    "|Wh of RNN:|`[[ 0.00865366 -0.02301519  0.01744827 -0.00761178]`<br>`[ 0.00319076 -0.00249388  0.01462095 -0.02060167]`<br>`[-0.00322391 -0.00384067  0.0113376  -0.0109991 ]`<br>`[-0.00172383 -0.00877879  0.00042198  0.00582784]]`|\n",
    "|bh of RNN:|  `[[ 0.00017288]`<br>`[-0.00015564]`<br>`[-0.00010827]`<br>`[-0.00016452]]`|"
   ]
  },
  {
   "cell_type": "markdown",
   "metadata": {
    "id": "gEMEe8JMkmhE"
   },
   "source": [
    "### Save the above output to `.npy`"
   ]
  },
  {
   "cell_type": "code",
   "execution_count": 9,
   "metadata": {
    "id": "W6SUWskHkmMd"
   },
   "outputs": [
    {
     "name": "stdout",
     "output_type": "stream",
     "text": [
      "RNN_initialization:\n",
      "  Wx shape: <class 'tuple'>\n",
      "  Wh shape: <class 'tuple'>\n",
      "  bh shape: <class 'tuple'>\n",
      "RNN_forward:\n",
      "  X shape: <class 'tuple'>\n",
      "  X: <class 'numpy.ndarray'>\n",
      "  Output shape: <class 'tuple'>\n",
      "  Output: <class 'numpy.ndarray'>\n",
      "RNN_backward:\n",
      "  dH shape: <class 'tuple'>\n",
      "  dH: <class 'numpy.ndarray'>\n",
      "  dL_dX shape: <class 'tuple'>\n",
      "  dL_dX: <class 'numpy.ndarray'>\n",
      "  dL_dWx shape: <class 'tuple'>\n",
      "  dL_dWx: <class 'numpy.ndarray'>\n",
      "  dL_dWh shape: <class 'tuple'>\n",
      "  dL_dWh: <class 'numpy.ndarray'>\n",
      "  dL_dbh shape: <class 'tuple'>\n",
      "  dL_dbh: <class 'numpy.ndarray'>\n",
      "Model_class:\n",
      "  AL: <class 'numpy.ndarray'>\n",
      "  dA_prev: <class 'numpy.ndarray'>\n",
      "  Wx of RNN: <class 'numpy.ndarray'>\n",
      "  Wh of RNN: <class 'numpy.ndarray'>\n",
      "  bh of RNN: <class 'numpy.ndarray'>\n"
     ]
    }
   ],
   "source": [
    "assert list(outputs.keys()) == ['RNN_initialization', 'RNN_forward', 'RNN_backward', 'Model_class']\n",
    "np.save('Lab6_outputs.npy', outputs)\n",
    "# sanity check for saved outputs\n",
    "submit = np.load(\"Lab6_outputs.npy\", allow_pickle=True).item()\n",
    "for key, value in submit.items():\n",
    "    if isinstance(value, dict):  # Check if value is a dictionary\n",
    "        print(f\"{key}:\")\n",
    "        for inner_key, inner_value in value.items():\n",
    "            print(f\"  {inner_key}: {type(inner_value)}\")  # Print type of inner values\n",
    "    else:\n",
    "        print(f\"{key}: {type(value)}\")  # Print type of other values"
   ]
  },
  {
   "cell_type": "markdown",
   "metadata": {
    "id": "m-Q5MP76mda2"
   },
   "source": [
    "Expected output:\n",
    "\n",
    "\n",
    "```\n",
    "RNN_initialization:\n",
    "  Wx shape: <class 'tuple'>\n",
    "  Wh shape: <class 'tuple'>\n",
    "  bh shape: <class 'tuple'>\n",
    "RNN_forward:\n",
    "  X shape: <class 'tuple'>\n",
    "  X: <class 'numpy.ndarray'>\n",
    "  Output shape: <class 'tuple'>\n",
    "  Output: <class 'numpy.ndarray'>\n",
    "RNN_backward:\n",
    "  dH shape: <class 'tuple'>\n",
    "  dH: <class 'numpy.ndarray'>\n",
    "  dL_dX shape: <class 'tuple'>\n",
    "  dL_dX: <class 'numpy.ndarray'>\n",
    "  dL_dWx shape: <class 'tuple'>\n",
    "  dL_dWx: <class 'numpy.ndarray'>\n",
    "  dL_dWh shape: <class 'tuple'>\n",
    "  dL_dWh: <class 'numpy.ndarray'>\n",
    "  dL_dbh shape: <class 'tuple'>\n",
    "  dL_dbh: <class 'numpy.ndarray'>\n",
    "Model_class:\n",
    "  AL: <class 'numpy.ndarray'>\n",
    "  dA_prev: <class 'numpy.ndarray'>\n",
    "  Wx of RNN: <class 'numpy.ndarray'>\n",
    "  Wh of RNN: <class 'numpy.ndarray'>\n",
    "  bh of RNN: <class 'numpy.ndarray'>\n",
    "```\n",
    "\n"
   ]
  },
  {
   "cell_type": "markdown",
   "metadata": {
    "id": "QOLxLMMl9BD9"
   },
   "source": [
    "## Sinusoidal wave dataset (20%)\n",
    "In this section, we will generate a dataset of sinusoidal waves with varying frequencies, amplitudes, and random phase shifts. The **last value** in each sequence will be used as the target prediction. This dataset will be used for training and validating a model.\n",
    "\n",
    "\n",
    "\n",
    "*   You can decide how many `num_samples`, `num_timesteps`, `freq_range` and `amp_range` you want to generate your own training dataset. (**there is no provided training dataset!**)\n",
    "* ⚠⚠ You need to download X_test.csv from Kaggle and put it into Sinewave directory. (Or you have to change the path when generating prediction)\n",
    "* For **testing data** on Kaggle, we used `num_timesteps = 100`, `0.5 <= freq_range <= 5` & `0.5 <= amp_range <= 5` to generate, your training dataset can try to cover these range in testing data.\n",
    "* You need submit the `y_test.csv` to Kaggle\n",
    "    * `MAPE <= 17%` -> 10 points\n",
    "    * `MAPE <= 14%` -> 20 points\n",
    "* **Kaggle Link**: https://www.kaggle.com/t/512f44fe285d4c1bb90c39884f8a2a33"
   ]
  },
  {
   "cell_type": "code",
   "execution_count": 10,
   "metadata": {
    "id": "4eIHk7hbB7Cg"
   },
   "outputs": [
    {
     "data": {
      "image/png": "[encoded data removed]",
      "text/plain": [
       "<Figure size 640x480 with 1 Axes>"
      ]
     },
     "metadata": {},
     "output_type": "display_data"
    }
   ],
   "source": [
    "# Generate Sinusoidal Wave Dataset\n",
    "\n",
    "def generate_sine_wave_data(num_samples, num_timesteps, freq_range, amp_range):\n",
    "    \"\"\"\n",
    "    Generate sine wave data with varying frequencies, amplitudes, and random phase shifts.\n",
    "    The last value in each sequence is used as the target prediction.\n",
    "\n",
    "    Parameters:\n",
    "    - num_samples: Number of samples to generate.\n",
    "    - num_timesteps: Number of timesteps for each sample.\n",
    "    - freq_range: Tuple of floor and ceiling of frequency range.\n",
    "    - amp_range: Tuple of floor and ceiling of amplitude range.\n",
    "\n",
    "    Returns:\n",
    "    - X: Generated sine wave data of shape (num_samples, num_timesteps - 1).\n",
    "    - y: Target values of shape (num_samples,).\n",
    "    \"\"\"\n",
    "    X = np.zeros((num_samples, num_timesteps - 1))\n",
    "    y = np.zeros(num_samples)\n",
    "    for i in range(num_samples):\n",
    "        ### START CODE HERE ###\n",
    "        # Choose the frequency, amplitude and shift phase value.\n",
    "        freq = np.random.uniform(freq_range[0], freq_range[1]) # Random choose from freq_range.\n",
    "        amp = np.random.uniform(amp_range[0], amp_range[1])    # Random choose from amp_range.\n",
    "        phase_shift = np.random.uniform(0, 2 * np.pi)          # Random choose from (0, 2*pi).\n",
    "        ### END CODE HERE ###\n",
    "\n",
    "        t = np.linspace(0, 2 * np.pi, num_timesteps)\n",
    "        sine_wave = amp * np.sin(freq * t + phase_shift)\n",
    "        X[i] = sine_wave[:-1]  # All but the last value\n",
    "        y[i] = sine_wave[-1]   # The last value\n",
    "    return X, y\n",
    "\n",
    "### START CODE HERE ###\n",
    "# You can modify to your preferred range and number of samples. (Note: It's recommended to cover the range of testing data mentioned above.)\n",
    "num_samples = 1600\n",
    "num_timesteps = 100\n",
    "freq_range = (0.5, 5.0)  # Frequency range\n",
    "amp_range = (0.5, 5.0)   # Amplitude range\n",
    "### END CODE HERE ###\n",
    "\n",
    "X, y = generate_sine_wave_data(num_samples, num_timesteps, freq_range, amp_range)\n",
    "\n",
    "### START CODE HERE ###\n",
    "# Split data into training and validation sets\n",
    "X_train = X[:1200]\n",
    "y_train = y[:1200]\n",
    "X_val = X[1200:]\n",
    "y_val = y[1200:]\n",
    "### END CODE HERE ###\n",
    "\n",
    "# Plot an example sequence\n",
    "plt.plot(X_train[0], label='Input Sequence')\n",
    "plt.plot(np.arange(num_timesteps, num_timesteps + 1), y_train[0], 'ro', label='Target Value')\n",
    "plt.legend()\n",
    "plt.show()\n"
   ]
  },
  {
   "cell_type": "markdown",
   "metadata": {
    "id": "ambyK8w0CYko"
   },
   "source": [
    "### Construct the model with Dense layer only\n",
    "Here, we want you to construct the model with **Dense layer only** like you did in Lab4. You may modify the model structure and parameters in the way you like."
   ]
  },
  {
   "cell_type": "code",
   "execution_count": 11,
   "metadata": {
    "id": "NHebwBbOCeZy"
   },
   "outputs": [
    {
     "name": "stderr",
     "output_type": "stream",
     "text": [
      "Epoch 1/20: 100%|██████████| 9/9 [00:00<00:00, 1124.65batch/s, loss=11.1]\n"
     ]
    },
    {
     "name": "stdout",
     "output_type": "stream",
     "text": [
      "Epoch 1/20, Training Loss: 10.037293639465398\n",
      "Epoch 1/20, Validation Loss: 6.656660216858543\n"
     ]
    },
    {
     "name": "stderr",
     "output_type": "stream",
     "text": [
      "Epoch 2/20: 100%|██████████| 9/9 [00:00<00:00, 2249.63batch/s, loss=6.52]\n"
     ]
    },
    {
     "name": "stdout",
     "output_type": "stream",
     "text": [
      "Epoch 2/20, Training Loss: 6.258681399550145\n",
      "Epoch 2/20, Validation Loss: 4.8199645326524765\n"
     ]
    },
    {
     "name": "stderr",
     "output_type": "stream",
     "text": [
      "Epoch 3/20: 100%|██████████| 9/9 [00:00<00:00, 1499.99batch/s, loss=4.71]\n"
     ]
    },
    {
     "name": "stdout",
     "output_type": "stream",
     "text": [
      "Epoch 3/20, Training Loss: 4.674439401741286\n",
      "Epoch 3/20, Validation Loss: 3.892478500075437\n"
     ]
    },
    {
     "name": "stderr",
     "output_type": "stream",
     "text": [
      "Epoch 4/20: 100%|██████████| 9/9 [00:00<00:00, 1285.85batch/s, loss=3.73]\n"
     ]
    },
    {
     "name": "stdout",
     "output_type": "stream",
     "text": [
      "Epoch 4/20, Training Loss: 3.783790572072388\n",
      "Epoch 4/20, Validation Loss: 3.3080697373691352\n"
     ]
    },
    {
     "name": "stderr",
     "output_type": "stream",
     "text": [
      "Epoch 5/20: 100%|██████████| 9/9 [00:00<00:00, 1798.93batch/s, loss=3.1]\n"
     ]
    },
    {
     "name": "stdout",
     "output_type": "stream",
     "text": [
      "Epoch 5/20, Training Loss: 3.194219070993411\n",
      "Epoch 5/20, Validation Loss: 2.8939751041763944\n"
     ]
    },
    {
     "name": "stderr",
     "output_type": "stream",
     "text": [
      "Epoch 6/20: 100%|██████████| 9/9 [00:00<00:00, 1500.23batch/s, loss=2.65]\n"
     ]
    },
    {
     "name": "stdout",
     "output_type": "stream",
     "text": [
      "Epoch 6/20, Training Loss: 2.766554758371957\n",
      "Epoch 6/20, Validation Loss: 2.579145532062895\n"
     ]
    },
    {
     "name": "stderr",
     "output_type": "stream",
     "text": [
      "Epoch 7/20: 100%|██████████| 9/9 [00:00<00:00, 1500.35batch/s, loss=2.31]\n"
     ]
    },
    {
     "name": "stdout",
     "output_type": "stream",
     "text": [
      "Epoch 7/20, Training Loss: 2.439300797707374\n",
      "Epoch 7/20, Validation Loss: 2.3271650246117823\n"
     ]
    },
    {
     "name": "stderr",
     "output_type": "stream",
     "text": [
      "Epoch 8/20: 100%|██████████| 9/9 [00:00<00:00, 1799.87batch/s, loss=2.04]\n"
     ]
    },
    {
     "name": "stdout",
     "output_type": "stream",
     "text": [
      "Epoch 8/20, Training Loss: 2.1789146920789175\n",
      "Epoch 8/20, Validation Loss: 2.118567551634934\n"
     ]
    },
    {
     "name": "stderr",
     "output_type": "stream",
     "text": [
      "Epoch 9/20: 100%|██████████| 9/9 [00:00<00:00, 1500.35batch/s, loss=1.83]\n"
     ]
    },
    {
     "name": "stdout",
     "output_type": "stream",
     "text": [
      "Epoch 9/20, Training Loss: 1.9653428104662791\n",
      "Epoch 9/20, Validation Loss: 1.9410493166709422\n"
     ]
    },
    {
     "name": "stderr",
     "output_type": "stream",
     "text": [
      "Epoch 10/20: 100%|██████████| 9/9 [00:00<00:00, 1798.93batch/s, loss=1.65]\n"
     ]
    },
    {
     "name": "stdout",
     "output_type": "stream",
     "text": [
      "Epoch 10/20, Training Loss: 1.785972774491356\n",
      "Epoch 10/20, Validation Loss: 1.7869585298009707\n"
     ]
    },
    {
     "name": "stderr",
     "output_type": "stream",
     "text": [
      "Epoch 11/20: 100%|██████████| 9/9 [00:00<00:00, 1800.39batch/s, loss=1.5]\n"
     ]
    },
    {
     "name": "stdout",
     "output_type": "stream",
     "text": [
      "Epoch 11/20, Training Loss: 1.6329252083307433\n",
      "Epoch 11/20, Validation Loss: 1.6518541347730178\n"
     ]
    },
    {
     "name": "stderr",
     "output_type": "stream",
     "text": [
      "Epoch 12/20: 100%|██████████| 9/9 [00:00<00:00, 1800.47batch/s, loss=1.38]\n"
     ]
    },
    {
     "name": "stdout",
     "output_type": "stream",
     "text": [
      "Epoch 12/20, Training Loss: 1.5005696974339782\n",
      "Epoch 12/20, Validation Loss: 1.5319924366142772\n"
     ]
    },
    {
     "name": "stderr",
     "output_type": "stream",
     "text": [
      "Epoch 13/20: 100%|██████████| 9/9 [00:00<00:00, 642.83batch/s, loss=1.27]\n"
     ]
    },
    {
     "name": "stdout",
     "output_type": "stream",
     "text": [
      "Epoch 13/20, Training Loss: 1.384813589549629\n",
      "Epoch 13/20, Validation Loss: 1.4251433135323848\n"
     ]
    },
    {
     "name": "stderr",
     "output_type": "stream",
     "text": [
      "Epoch 14/20: 100%|██████████| 9/9 [00:00<00:00, 1000.05batch/s, loss=1.17]\n"
     ]
    },
    {
     "name": "stdout",
     "output_type": "stream",
     "text": [
      "Epoch 14/20, Training Loss: 1.2828493196853157\n",
      "Epoch 14/20, Validation Loss: 1.3292777193140126\n"
     ]
    },
    {
     "name": "stderr",
     "output_type": "stream",
     "text": [
      "Epoch 15/20: 100%|██████████| 9/9 [00:00<00:00, 1799.79batch/s, loss=1.09]\n"
     ]
    },
    {
     "name": "stdout",
     "output_type": "stream",
     "text": [
      "Epoch 15/20, Training Loss: 1.192266677644832\n",
      "Epoch 15/20, Validation Loss: 1.242687988970931\n"
     ]
    },
    {
     "name": "stderr",
     "output_type": "stream",
     "text": [
      "Epoch 16/20: 100%|██████████| 9/9 [00:00<00:00, 2250.16batch/s, loss=1.01]\n"
     ]
    },
    {
     "name": "stdout",
     "output_type": "stream",
     "text": [
      "Epoch 16/20, Training Loss: 1.1113658127280248\n",
      "Epoch 16/20, Validation Loss: 1.1643013616786517\n"
     ]
    },
    {
     "name": "stderr",
     "output_type": "stream",
     "text": [
      "Epoch 17/20: 100%|██████████| 9/9 [00:00<00:00, 2251.51batch/s, loss=0.946]\n"
     ]
    },
    {
     "name": "stdout",
     "output_type": "stream",
     "text": [
      "Epoch 17/20, Training Loss: 1.038834017370651\n",
      "Epoch 17/20, Validation Loss: 1.0929504043302647\n"
     ]
    },
    {
     "name": "stderr",
     "output_type": "stream",
     "text": [
      "Epoch 18/20: 100%|██████████| 9/9 [00:00<00:00, 1800.22batch/s, loss=0.887]\n"
     ]
    },
    {
     "name": "stdout",
     "output_type": "stream",
     "text": [
      "Epoch 18/20, Training Loss: 0.973501196568298\n",
      "Epoch 18/20, Validation Loss: 1.0276237427031694\n"
     ]
    },
    {
     "name": "stderr",
     "output_type": "stream",
     "text": [
      "Epoch 19/20: 100%|██████████| 9/9 [00:00<00:00, 1801.08batch/s, loss=0.833]\n"
     ]
    },
    {
     "name": "stdout",
     "output_type": "stream",
     "text": [
      "Epoch 19/20, Training Loss: 0.9144225740402963\n",
      "Epoch 19/20, Validation Loss: 0.9678405053005582\n"
     ]
    },
    {
     "name": "stderr",
     "output_type": "stream",
     "text": [
      "Epoch 20/20: 100%|██████████| 9/9 [00:00<00:00, 2250.16batch/s, loss=0.785]\n"
     ]
    },
    {
     "name": "stdout",
     "output_type": "stream",
     "text": [
      "Epoch 20/20, Training Loss: 0.8607742126443623\n",
      "Epoch 20/20, Validation Loss: 0.9130864696447921\n"
     ]
    },
    {
     "data": {
      "image/png": "[encoded data removed]",
      "text/plain": [
       "<Figure size 640x480 with 1 Axes>"
      ]
     },
     "metadata": {},
     "output_type": "display_data"
    }
   ],
   "source": [
    "### START CODE HERE ###\n",
    "# Change the structure and parameters to train your own model (Only contain Dense layer here!!!)\n",
    "# Reshape the input data to fit Dense model\n",
    "input_size = X_train.shape[1]\n",
    "X_train = X_train.reshape(X_train.shape[0], X_train.shape[1])\n",
    "X_val = X_val.reshape(X_val.shape[0], X_val.shape[1])\n",
    "y_val = y_val.reshape(-1, 1)\n",
    "y_train = y_train.reshape(-1, 1)\n",
    "# Construct the model with Dense layers\n",
    "\n",
    "model = Model()\n",
    "model.add(Dense(input_size, 64))\n",
    "model.add(Activation(\"relu\", None))\n",
    "model.add(Dense(64, 1))\n",
    "model.add(Activation(\"linear\", None))\n",
    "\n",
    "# Train the model\n",
    "model.train(X_train, y_train, X_val, y_val, epochs=20, learning_rate=0.001, batch_size = 128, loss_function='mse')\n",
    "### END CODE HERE ###\n",
    "\n",
    "# Plot the training and validation losses\n",
    "model.plot_losses()"
   ]
  },
  {
   "cell_type": "markdown",
   "metadata": {
    "id": "xP0-p2yrD8gA"
   },
   "source": [
    "#### Predict testing data & Save the answer (For Dense model)\n",
    "For this prediction of Dense model, you can choose not to submit it to Kaggle if its performance is not better."
   ]
  },
  {
   "cell_type": "code",
   "execution_count": 12,
   "metadata": {
    "id": "_GNngIotD6Ow"
   },
   "outputs": [
    {
     "name": "stdout",
     "output_type": "stream",
     "text": [
      "Prediction data has been saved.\n"
     ]
    }
   ],
   "source": [
    "### START CODE HERE ###\n",
    "# Read the X_test.csv file into a DataFrame\n",
    "# Change the path if needed\n",
    "# download\n",
    "X_test_df = pd.read_csv('Sinewave/X_test.csv')\n",
    "### END CODE HERE ###\n",
    "\n",
    "# Do not modify this part to get the correct output format!!\n",
    "# Drop the 'Id' column if it exists\n",
    "if 'Id' in X_test_df.columns:\n",
    "    X_test_df = X_test_df.drop(columns=['Id'])\n",
    "\n",
    "# Convert the DataFrame to a numpy array\n",
    "X_test = X_test_df.values\n",
    "y_pred = model.predict(X_test)\n",
    "\n",
    "\n",
    "# Convert the list of predictions to a numpy array\n",
    "y_pred = np.array(y_pred)\n",
    "y_pred_df = pd.DataFrame(y_pred, columns=['answer'])\n",
    "y_pred_df.insert(0, 'Id', range(1, 1 + len(y_pred_df)))\n",
    "y_pred_df.to_csv('y_pred_basic.csv', index=False)\n",
    "\n",
    "print('Prediction data has been saved.')"
   ]
  },
  {
   "cell_type": "markdown",
   "metadata": {
    "id": "0E7dvPVBBhgk"
   },
   "source": [
    "### Construct the model with RNN layer\n",
    "Then, we can integrate our custom-built RNN layer into the model to evaluate whether it improves performance on the sequential inputs."
   ]
  },
  {
   "cell_type": "code",
   "execution_count": 13,
   "metadata": {
    "id": "yIJd6igNCG8i"
   },
   "outputs": [
    {
     "name": "stderr",
     "output_type": "stream",
     "text": [
      "Epoch 1/20: 100%|██████████| 75/75 [00:00<00:00, 510.74batch/s, loss=1.11]\n"
     ]
    },
    {
     "name": "stdout",
     "output_type": "stream",
     "text": [
      "Epoch 1/20, Training Loss: 1.1074254283120588\n",
      "Epoch 1/20, Validation Loss: 0.31871464119992304\n"
     ]
    },
    {
     "name": "stderr",
     "output_type": "stream",
     "text": [
      "Epoch 2/20: 100%|██████████| 75/75 [00:00<00:00, 451.80batch/s, loss=0.247]\n"
     ]
    },
    {
     "name": "stdout",
     "output_type": "stream",
     "text": [
      "Epoch 2/20, Training Loss: 0.246712551174053\n",
      "Epoch 2/20, Validation Loss: 0.23128485967718873\n"
     ]
    },
    {
     "name": "stderr",
     "output_type": "stream",
     "text": [
      "Epoch 3/20: 100%|██████████| 75/75 [00:00<00:00, 510.16batch/s, loss=0.185]\n"
     ]
    },
    {
     "name": "stdout",
     "output_type": "stream",
     "text": [
      "Epoch 3/20, Training Loss: 0.18524929871213397\n",
      "Epoch 3/20, Validation Loss: 0.18002785819541228\n"
     ]
    },
    {
     "name": "stderr",
     "output_type": "stream",
     "text": [
      "Epoch 4/20: 100%|██████████| 75/75 [00:00<00:00, 518.09batch/s, loss=0.145]\n"
     ]
    },
    {
     "name": "stdout",
     "output_type": "stream",
     "text": [
      "Epoch 4/20, Training Loss: 0.14502150661047472\n",
      "Epoch 4/20, Validation Loss: 0.14225886991807143\n"
     ]
    },
    {
     "name": "stderr",
     "output_type": "stream",
     "text": [
      "Epoch 5/20: 100%|██████████| 75/75 [00:00<00:00, 519.98batch/s, loss=0.113]\n"
     ]
    },
    {
     "name": "stdout",
     "output_type": "stream",
     "text": [
      "Epoch 5/20, Training Loss: 0.11252658569352597\n",
      "Epoch 5/20, Validation Loss: 0.10971878369559146\n"
     ]
    },
    {
     "name": "stderr",
     "output_type": "stream",
     "text": [
      "Epoch 6/20: 100%|██████████| 75/75 [00:00<00:00, 511.84batch/s, loss=0.0855]\n"
     ]
    },
    {
     "name": "stdout",
     "output_type": "stream",
     "text": [
      "Epoch 6/20, Training Loss: 0.08553434135984349\n",
      "Epoch 6/20, Validation Loss: 0.08439259566140493\n"
     ]
    },
    {
     "name": "stderr",
     "output_type": "stream",
     "text": [
      "Epoch 7/20: 100%|██████████| 75/75 [00:00<00:00, 376.88batch/s, loss=0.0655]\n"
     ]
    },
    {
     "name": "stdout",
     "output_type": "stream",
     "text": [
      "Epoch 7/20, Training Loss: 0.06549794480382912\n",
      "Epoch 7/20, Validation Loss: 0.06544971003561571\n"
     ]
    },
    {
     "name": "stderr",
     "output_type": "stream",
     "text": [
      "Epoch 8/20: 100%|██████████| 75/75 [00:00<00:00, 313.81batch/s, loss=0.0502]\n"
     ]
    },
    {
     "name": "stdout",
     "output_type": "stream",
     "text": [
      "Epoch 8/20, Training Loss: 0.05017332537224636\n",
      "Epoch 8/20, Validation Loss: 0.05085464145692178\n"
     ]
    },
    {
     "name": "stderr",
     "output_type": "stream",
     "text": [
      "Epoch 9/20: 100%|██████████| 75/75 [00:00<00:00, 303.32batch/s, loss=0.0384]\n"
     ]
    },
    {
     "name": "stdout",
     "output_type": "stream",
     "text": [
      "Epoch 9/20, Training Loss: 0.03835866887628371\n",
      "Epoch 9/20, Validation Loss: 0.039813466721182175\n"
     ]
    },
    {
     "name": "stderr",
     "output_type": "stream",
     "text": [
      "Epoch 10/20: 100%|██████████| 75/75 [00:00<00:00, 304.88batch/s, loss=0.0295]\n"
     ]
    },
    {
     "name": "stdout",
     "output_type": "stream",
     "text": [
      "Epoch 10/20, Training Loss: 0.029494077287904843\n",
      "Epoch 10/20, Validation Loss: 0.031552146579521524\n"
     ]
    },
    {
     "name": "stderr",
     "output_type": "stream",
     "text": [
      "Epoch 11/20: 100%|██████████| 75/75 [00:00<00:00, 291.83batch/s, loss=0.0231]\n"
     ]
    },
    {
     "name": "stdout",
     "output_type": "stream",
     "text": [
      "Epoch 11/20, Training Loss: 0.02305507608142289\n",
      "Epoch 11/20, Validation Loss: 0.02562772528911799\n"
     ]
    },
    {
     "name": "stderr",
     "output_type": "stream",
     "text": [
      "Epoch 12/20: 100%|██████████| 75/75 [00:00<00:00, 306.13batch/s, loss=0.0186]\n"
     ]
    },
    {
     "name": "stdout",
     "output_type": "stream",
     "text": [
      "Epoch 12/20, Training Loss: 0.018573680635557248\n",
      "Epoch 12/20, Validation Loss: 0.02143691299717195\n"
     ]
    },
    {
     "name": "stderr",
     "output_type": "stream",
     "text": [
      "Epoch 13/20: 100%|██████████| 75/75 [00:00<00:00, 290.18batch/s, loss=0.0155]\n"
     ]
    },
    {
     "name": "stdout",
     "output_type": "stream",
     "text": [
      "Epoch 13/20, Training Loss: 0.015499678861432947\n",
      "Epoch 13/20, Validation Loss: 0.018416259276700354\n"
     ]
    },
    {
     "name": "stderr",
     "output_type": "stream",
     "text": [
      "Epoch 14/20: 100%|██████████| 75/75 [00:00<00:00, 289.38batch/s, loss=0.0134]\n"
     ]
    },
    {
     "name": "stdout",
     "output_type": "stream",
     "text": [
      "Epoch 14/20, Training Loss: 0.013392167757688646\n",
      "Epoch 14/20, Validation Loss: 0.01620869371770349\n"
     ]
    },
    {
     "name": "stderr",
     "output_type": "stream",
     "text": [
      "Epoch 15/20: 100%|██████████| 75/75 [00:00<00:00, 309.73batch/s, loss=0.0119]\n"
     ]
    },
    {
     "name": "stdout",
     "output_type": "stream",
     "text": [
      "Epoch 15/20, Training Loss: 0.011926873040158706\n",
      "Epoch 15/20, Validation Loss: 0.014540380623552403\n"
     ]
    },
    {
     "name": "stderr",
     "output_type": "stream",
     "text": [
      "Epoch 16/20: 100%|██████████| 75/75 [00:00<00:00, 316.66batch/s, loss=0.0109]\n"
     ]
    },
    {
     "name": "stdout",
     "output_type": "stream",
     "text": [
      "Epoch 16/20, Training Loss: 0.01087016645362962\n",
      "Epoch 16/20, Validation Loss: 0.013266536576272593\n"
     ]
    },
    {
     "name": "stderr",
     "output_type": "stream",
     "text": [
      "Epoch 17/20: 100%|██████████| 75/75 [00:00<00:00, 336.23batch/s, loss=0.0101] \n"
     ]
    },
    {
     "name": "stdout",
     "output_type": "stream",
     "text": [
      "Epoch 17/20, Training Loss: 0.01007972272863254\n",
      "Epoch 17/20, Validation Loss: 0.012262665587728025\n"
     ]
    },
    {
     "name": "stderr",
     "output_type": "stream",
     "text": [
      "Epoch 18/20: 100%|██████████| 75/75 [00:00<00:00, 339.35batch/s, loss=0.00945]\n"
     ]
    },
    {
     "name": "stdout",
     "output_type": "stream",
     "text": [
      "Epoch 18/20, Training Loss: 0.009447226672794252\n",
      "Epoch 18/20, Validation Loss: 0.011425311085442544\n"
     ]
    },
    {
     "name": "stderr",
     "output_type": "stream",
     "text": [
      "Epoch 19/20: 100%|██████████| 75/75 [00:00<00:00, 333.20batch/s, loss=0.00893]\n"
     ]
    },
    {
     "name": "stdout",
     "output_type": "stream",
     "text": [
      "Epoch 19/20, Training Loss: 0.008925877373473794\n",
      "Epoch 19/20, Validation Loss: 0.010723905603182163\n"
     ]
    },
    {
     "name": "stderr",
     "output_type": "stream",
     "text": [
      "Epoch 20/20: 100%|██████████| 75/75 [00:00<00:00, 319.84batch/s, loss=0.00848]\n"
     ]
    },
    {
     "name": "stdout",
     "output_type": "stream",
     "text": [
      "Epoch 20/20, Training Loss: 0.008484417183724658\n",
      "Epoch 20/20, Validation Loss: 0.010122208226030126\n"
     ]
    },
    {
     "data": {
      "image/png": "[encoded data removed]",
      "text/plain": [
       "<Figure size 640x480 with 1 Axes>"
      ]
     },
     "metadata": {},
     "output_type": "display_data"
    }
   ],
   "source": [
    "### START CODE HERE ###\n",
    "# Change the structure and parameters to train your own model (Can add RNN layer here)\n",
    "# Reshape X_train and X_val to fit the RNN layer input shape.\n",
    "X_train = X_train.reshape(X_train.shape[0], X_train.shape[1], 1)\n",
    "X_val = X_val.reshape(X_val.shape[0], X_val.shape[1], 1)\n",
    "y_val = y_val.reshape(-1, 1)\n",
    "y_train = y_train.reshape(-1, 1)\n",
    "\n",
    "# Construct the model & Set the parameters.\n",
    "input_size = 1  # Number of input features (1 for single sine wave value)\n",
    "rnn_units = 32  # Number of units in the RNN layer\n",
    "dense_units = 16  # Number of units in the Dense layer\n",
    "output_size = 1  # Number of output classes (1 for single sine wave value)\n",
    "\n",
    "model = Model()\n",
    "model.add(RNN(input_size, rnn_units))\n",
    "model.add(Flatten())\n",
    "model.add(Dense(rnn_units, dense_units))\n",
    "model.add(Activation(\"relu\", None))\n",
    "model.add(Dense(dense_units, output_size))\n",
    "model.add(Activation(\"linear\", None))\n",
    "\n",
    "# Train the model\n",
    "model.train(X_train, y_train, X_val, y_val, epochs=20, learning_rate=0.01, batch_size = 16, loss_function='mse')\n",
    "### END CODE HERE ###\n",
    "\n",
    "# Plot the training and validation losses\n",
    "model.plot_losses()"
   ]
  },
  {
   "cell_type": "markdown",
   "metadata": {
    "id": "DafczhXYA0fJ"
   },
   "source": [
    "#### Predict testing data & Save the answer (For RNN model)\n",
    "Remember to submit your prediction to Kaggle!"
   ]
  },
  {
   "cell_type": "code",
   "execution_count": 14,
   "metadata": {
    "id": "kVkkIBwd-CWf"
   },
   "outputs": [
    {
     "name": "stdout",
     "output_type": "stream",
     "text": [
      "Prediction data has been saved.\n"
     ]
    }
   ],
   "source": [
    "### START CODE HERE ###\n",
    "# Read the X_test.csv file into a DataFrame\n",
    "# Change the path if needed\n",
    "X_test_df = pd.read_csv('Sinewave/X_test.csv')\n",
    "### END CODE HERE ###\n",
    "\n",
    "\n",
    "# Do not modify this part to get the correct output format!!\n",
    "# Drop the 'Id' column if it exists\n",
    "if 'Id' in X_test_df.columns:\n",
    "    X_test_df = X_test_df.drop(columns=['Id'])\n",
    "\n",
    "# Convert the DataFrame to a numpy array\n",
    "X_test = X_test_df.values\n",
    "X_test = X_test.reshape((X_test.shape[0], X_test.shape[1], 1))  # reshape the X_test to fit RNN layer input shape.\n",
    "y_pred = model.predict(X_test)\n",
    "\n",
    "\n",
    "# Convert the list of predictions to a numpy array\n",
    "y_pred = np.array(y_pred)\n",
    "y_pred_df = pd.DataFrame(y_pred, columns=['answer'])\n",
    "y_pred_df.insert(0, 'Id', range(1, 1 + len(y_pred_df)))\n",
    "y_pred_df.to_csv('y_pred_basic.csv', index=False)\n",
    "\n",
    "print('Prediction data has been saved.')"
   ]
  },
  {
   "cell_type": "markdown",
   "metadata": {
    "id": "NNRANy31n8aW"
   },
   "source": [
    "# Advance part (35%)\n",
    "\n",
    "\n",
    "\n",
    "\n"
   ]
  },
  {
   "cell_type": "markdown",
   "metadata": {
    "id": "Nz7MTnsUFcyP"
   },
   "source": [
    "## Accelerometer and Gyroscope dataset\n",
    "- ⚠⚠ You need to download the training & testing data from Kaggle. ⚠⚠ (Put it into the directory name `Activity data`, or your need to change the path in template.)\n",
    "- In this dataset, we provide the time-series Accelerometer and Gyroscope data each with 3-axial (x, y, z) (total 6 channels).\n",
    "- We classified the activity into 3 different classes:\n",
    "    Activity 1, 2, 3\\\n",
    "    You have to build a RNN model using these time-series data to predict the activity class.\n",
    "- Steps:\n",
    "    1. Load the provided `X_train.npy`, `y_train.npy` and `X_test.npy` and split the part of training data to validation.\\\n",
    "    Note: `y_train.npy` is already one-hot encoded.\n",
    "    2. Visualize the `X_train.npy`.\n",
    "    3. One-hot encode the `y_train.npy` for three classes: Activity 1, Activity 2, Activity 3.\n",
    "    4. Build your own RNN model and train it.\n",
    "    5. Predict with the `X_test.npy` and generate `y_test.csv` then **submit it to Kaggle**!\n",
    "- We have set 3 baselines on public score:\n",
    "    * Accuracy >= 0.65 -> 10 points\n",
    "    * Accuracy >= 0.7  -> 20 points\n",
    "    * Accuracy >= 0.75 -> 25 points\n",
    "- Kaggle link: https://www.kaggle.com/t/95e0b11f63e74566802b0dea5ec4f1b4\n"
   ]
  },
  {
   "cell_type": "markdown",
   "metadata": {
    "id": "AYo4WYfMHws_"
   },
   "source": [
    "### 1. Load training & testing data\n",
    "Load the training and testing data, then split the training data into a validation set using your preferred ratio."
   ]
  },
  {
   "cell_type": "code",
   "execution_count": 15,
   "metadata": {
    "id": "kmP1Uo4PlIwV"
   },
   "outputs": [
    {
     "name": "stdout",
     "output_type": "stream",
     "text": [
      "X_train shape: (7352, 128, 6)\n",
      "y_train shape: (7352, 1)\n",
      "X_test shape: (2947, 128, 6)\n"
     ]
    }
   ],
   "source": [
    "### START CODE HERE ###\n",
    "# Load X_train, y_train and X_test data\n",
    "# Change the path if needed\n",
    "y_train = np.load('Activity data/y_train.npy')\n",
    "X_train = np.load('Activity data/X_train.npy')\n",
    "X_test = np.load('Activity data/X_test.npy')\n",
    "print(f\"X_train shape: {X_train.shape}\")\n",
    "print(f\"y_train shape: {y_train.shape}\")\n",
    "print(f\"X_test shape: {X_test.shape}\")\n",
    "### END CODE HERE ###\n",
    "\n",
    "### START CODE HERE ###\n",
    "# Define the validation ratio in your preferred way\n",
    "# 1. One-hot encode y_train. (3 classes)\n",
    "# 2. Split the X_train, y_train data into train & validation set.\n",
    "validation_ratio = 0.15\n",
    "num_classes = 3\n",
    "split_idx = int(X_train.shape[0] * (1 - validation_ratio))\n",
    "y_train = np.eye(num_classes)[y_train.reshape(-1)]\n",
    "X_val = X_train[split_idx:]\n",
    "y_val = y_train[split_idx:]\n",
    "X_train = X_train[:split_idx]\n",
    "y_train = y_train[:split_idx]\n",
    "### END CODE HERE ###\n",
    "\n"
   ]
  },
  {
   "cell_type": "markdown",
   "metadata": {
    "id": "h0u30s9HLcIL"
   },
   "source": [
    "### 2. Visualize the training data"
   ]
  },
  {
   "cell_type": "code",
   "execution_count": 16,
   "metadata": {
    "id": "XeD88dTg6oSI"
   },
   "outputs": [
    {
     "data": {
      "image/png": "[encoded data removed]",
      "text/plain": [
       "<Figure size 1200x600 with 1 Axes>"
      ]
     },
     "metadata": {},
     "output_type": "display_data"
    },
    {
     "data": {
      "image/png": "[encoded data removed]",
      "text/plain": [
       "<Figure size 1200x600 with 1 Axes>"
      ]
     },
     "metadata": {},
     "output_type": "display_data"
    },
    {
     "data": {
      "image/png": "[encoded data removed]",
      "text/plain": [
       "<Figure size 1200x600 with 1 Axes>"
      ]
     },
     "metadata": {},
     "output_type": "display_data"
    }
   ],
   "source": [
    "# Function to plot a single sample\n",
    "def plot_sample(X, y, sample_index):\n",
    "    plt.figure(figsize=(12, 6))\n",
    "    plt.plot(X[sample_index, :, 0], label='Acc X')\n",
    "    plt.plot(X[sample_index, :, 1], label='Acc Y')\n",
    "    plt.plot(X[sample_index, :, 2], label='Acc Z')\n",
    "    plt.plot(X[sample_index, :, 3], label='Gyro X')\n",
    "    plt.plot(X[sample_index, :, 4], label='Gyro Y')\n",
    "    plt.plot(X[sample_index, :, 5], label='Gyro Z')\n",
    "    plt.title(f'Sample {sample_index} - Activity: {np.argmax(y[sample_index])}')\n",
    "    plt.xlabel('Time Step')\n",
    "    plt.ylabel('Sensor Value')\n",
    "    plt.legend()\n",
    "    plt.show()\n",
    "\n",
    "### START CODE HERE ###\n",
    "# Plot a few samples\n",
    "for i in range(3):              # Change the range to visualize more samples\n",
    "    plot_sample(X_train, y_train, i)\n",
    " ### END CODE HERE ###"
   ]
  },
  {
   "cell_type": "markdown",
   "metadata": {
    "id": "doO7vRXk2t1w"
   },
   "source": [
    "### 3. Contruct and train the model"
   ]
  },
  {
   "cell_type": "code",
   "execution_count": null,
   "metadata": {
    "id": "0nRlh-1qSsi2"
   },
   "outputs": [
    {
     "name": "stderr",
     "output_type": "stream",
     "text": [
      "Epoch 1/200: 100%|██████████| 195/195 [00:01<00:00, 103.28batch/s, loss=1.03]\n"
     ]
    },
    {
     "name": "stdout",
     "output_type": "stream",
     "text": [
      "Epoch 1/200, Training Loss: 1.0409474088492776\n",
      "Epoch 1/200, Validation Loss: 0.9949438196425638\n"
     ]
    },
    {
     "name": "stderr",
     "output_type": "stream",
     "text": [
      "Epoch 2/200: 100%|██████████| 195/195 [00:01<00:00, 126.79batch/s, loss=0.989]\n"
     ]
    },
    {
     "name": "stdout",
     "output_type": "stream",
     "text": [
      "Epoch 2/200, Training Loss: 0.995258109983229\n",
      "Epoch 2/200, Validation Loss: 0.9751167478992754\n"
     ]
    },
    {
     "name": "stderr",
     "output_type": "stream",
     "text": [
      "Epoch 3/200: 100%|██████████| 195/195 [00:01<00:00, 145.80batch/s, loss=0.979]\n"
     ]
    },
    {
     "name": "stdout",
     "output_type": "stream",
     "text": [
      "Epoch 3/200, Training Loss: 0.9854623993926761\n",
      "Epoch 3/200, Validation Loss: 0.9675860436011431\n"
     ]
    },
    {
     "name": "stderr",
     "output_type": "stream",
     "text": [
      "Epoch 4/200: 100%|██████████| 195/195 [00:01<00:00, 146.00batch/s, loss=0.975]\n"
     ]
    },
    {
     "name": "stdout",
     "output_type": "stream",
     "text": [
      "Epoch 4/200, Training Loss: 0.9805967607622615\n",
      "Epoch 4/200, Validation Loss: 0.962216919031035\n"
     ]
    },
    {
     "name": "stderr",
     "output_type": "stream",
     "text": [
      "Epoch 5/200: 100%|██████████| 195/195 [00:01<00:00, 146.07batch/s, loss=0.97] \n"
     ]
    },
    {
     "name": "stdout",
     "output_type": "stream",
     "text": [
      "Epoch 5/200, Training Loss: 0.9763754159983686\n",
      "Epoch 5/200, Validation Loss: 0.9572547561741133\n"
     ]
    },
    {
     "name": "stderr",
     "output_type": "stream",
     "text": [
      "Epoch 6/200: 100%|██████████| 195/195 [00:01<00:00, 131.52batch/s, loss=0.966]\n"
     ]
    },
    {
     "name": "stdout",
     "output_type": "stream",
     "text": [
      "Epoch 6/200, Training Loss: 0.9720752892265281\n",
      "Epoch 6/200, Validation Loss: 0.9522074165662823\n"
     ]
    },
    {
     "name": "stderr",
     "output_type": "stream",
     "text": [
      "Epoch 7/200: 100%|██████████| 195/195 [00:01<00:00, 153.01batch/s, loss=0.962]\n"
     ]
    },
    {
     "name": "stdout",
     "output_type": "stream",
     "text": [
      "Epoch 7/200, Training Loss: 0.967457670552022\n",
      "Epoch 7/200, Validation Loss: 0.9468353654690783\n"
     ]
    },
    {
     "name": "stderr",
     "output_type": "stream",
     "text": [
      "Epoch 8/200: 100%|██████████| 195/195 [00:01<00:00, 153.38batch/s, loss=0.957]\n"
     ]
    },
    {
     "name": "stdout",
     "output_type": "stream",
     "text": [
      "Epoch 8/200, Training Loss: 0.9623835494048133\n",
      "Epoch 8/200, Validation Loss: 0.9409334289288981\n"
     ]
    },
    {
     "name": "stderr",
     "output_type": "stream",
     "text": [
      "Epoch 9/200: 100%|██████████| 195/195 [00:01<00:00, 147.25batch/s, loss=0.951]\n"
     ]
    },
    {
     "name": "stdout",
     "output_type": "stream",
     "text": [
      "Epoch 9/200, Training Loss: 0.9566914166266243\n",
      "Epoch 9/200, Validation Loss: 0.9343252540275855\n"
     ]
    },
    {
     "name": "stderr",
     "output_type": "stream",
     "text": [
      "Epoch 10/200: 100%|██████████| 195/195 [00:01<00:00, 157.73batch/s, loss=0.944]\n"
     ]
    },
    {
     "name": "stdout",
     "output_type": "stream",
     "text": [
      "Epoch 10/200, Training Loss: 0.9502323102817857\n",
      "Epoch 10/200, Validation Loss: 0.9267751898149041\n"
     ]
    },
    {
     "name": "stderr",
     "output_type": "stream",
     "text": [
      "Epoch 11/200: 100%|██████████| 195/195 [00:01<00:00, 139.49batch/s, loss=0.937]\n"
     ]
    },
    {
     "name": "stdout",
     "output_type": "stream",
     "text": [
      "Epoch 11/200, Training Loss: 0.9427986929816311\n",
      "Epoch 11/200, Validation Loss: 0.9180543842159937\n"
     ]
    },
    {
     "name": "stderr",
     "output_type": "stream",
     "text": [
      "Epoch 12/200: 100%|██████████| 195/195 [00:01<00:00, 133.28batch/s, loss=0.928]\n"
     ]
    },
    {
     "name": "stdout",
     "output_type": "stream",
     "text": [
      "Epoch 12/200, Training Loss: 0.93412862706501\n",
      "Epoch 12/200, Validation Loss: 0.9078102578526575\n"
     ]
    },
    {
     "name": "stderr",
     "output_type": "stream",
     "text": [
      "Epoch 13/200: 100%|██████████| 195/195 [00:01<00:00, 155.17batch/s, loss=0.918]\n"
     ]
    },
    {
     "name": "stdout",
     "output_type": "stream",
     "text": [
      "Epoch 13/200, Training Loss: 0.923908428351241\n",
      "Epoch 13/200, Validation Loss: 0.8956455523161969\n"
     ]
    },
    {
     "name": "stderr",
     "output_type": "stream",
     "text": [
      "Epoch 14/200: 100%|██████████| 195/195 [00:01<00:00, 148.12batch/s, loss=0.906]\n"
     ]
    },
    {
     "name": "stdout",
     "output_type": "stream",
     "text": [
      "Epoch 14/200, Training Loss: 0.9116682624380281\n",
      "Epoch 14/200, Validation Loss: 0.8810007534693169\n"
     ]
    },
    {
     "name": "stderr",
     "output_type": "stream",
     "text": [
      "Epoch 15/200: 100%|██████████| 195/195 [00:01<00:00, 131.19batch/s, loss=0.891]\n"
     ]
    },
    {
     "name": "stdout",
     "output_type": "stream",
     "text": [
      "Epoch 15/200, Training Loss: 0.8967418580322076\n",
      "Epoch 15/200, Validation Loss: 0.8630570700914848\n"
     ]
    },
    {
     "name": "stderr",
     "output_type": "stream",
     "text": [
      "Epoch 16/200: 100%|██████████| 195/195 [00:01<00:00, 105.47batch/s, loss=0.873]\n"
     ]
    },
    {
     "name": "stdout",
     "output_type": "stream",
     "text": [
      "Epoch 16/200, Training Loss: 0.8782294977500761\n",
      "Epoch 16/200, Validation Loss: 0.8407521788424787\n"
     ]
    },
    {
     "name": "stderr",
     "output_type": "stream",
     "text": [
      "Epoch 17/200: 100%|██████████| 195/195 [00:02<00:00, 92.73batch/s, loss=0.85]  \n"
     ]
    },
    {
     "name": "stdout",
     "output_type": "stream",
     "text": [
      "Epoch 17/200, Training Loss: 0.8546453372615517\n",
      "Epoch 17/200, Validation Loss: 0.8123673260040244\n"
     ]
    },
    {
     "name": "stderr",
     "output_type": "stream",
     "text": [
      "Epoch 18/200: 100%|██████████| 195/195 [00:02<00:00, 96.99batch/s, loss=0.819] \n"
     ]
    },
    {
     "name": "stdout",
     "output_type": "stream",
     "text": [
      "Epoch 18/200, Training Loss: 0.8234584016734425\n",
      "Epoch 18/200, Validation Loss: 0.7751795622147037\n"
     ]
    },
    {
     "name": "stderr",
     "output_type": "stream",
     "text": [
      "Epoch 19/200: 100%|██████████| 195/195 [00:01<00:00, 99.95batch/s, loss=0.777] \n"
     ]
    },
    {
     "name": "stdout",
     "output_type": "stream",
     "text": [
      "Epoch 19/200, Training Loss: 0.780991602374253\n",
      "Epoch 19/200, Validation Loss: 0.7266006228202547\n"
     ]
    },
    {
     "name": "stderr",
     "output_type": "stream",
     "text": [
      "Epoch 20/200: 100%|██████████| 195/195 [00:01<00:00, 102.85batch/s, loss=0.72] \n"
     ]
    },
    {
     "name": "stdout",
     "output_type": "stream",
     "text": [
      "Epoch 20/200, Training Loss: 0.7238597411973354\n",
      "Epoch 20/200, Validation Loss: 0.6710805475827819\n"
     ]
    },
    {
     "name": "stderr",
     "output_type": "stream",
     "text": [
      "Epoch 21/200: 100%|██████████| 195/195 [00:01<00:00, 102.07batch/s, loss=0.666]\n"
     ]
    },
    {
     "name": "stdout",
     "output_type": "stream",
     "text": [
      "Epoch 21/200, Training Loss: 0.669215850873208\n",
      "Epoch 21/200, Validation Loss: 0.6356754747643266\n"
     ]
    },
    {
     "name": "stderr",
     "output_type": "stream",
     "text": [
      "Epoch 22/200: 100%|██████████| 195/195 [00:01<00:00, 104.21batch/s, loss=0.643]\n"
     ]
    },
    {
     "name": "stdout",
     "output_type": "stream",
     "text": [
      "Epoch 22/200, Training Loss: 0.6460172540364132\n",
      "Epoch 22/200, Validation Loss: 0.6187471541071015\n"
     ]
    },
    {
     "name": "stderr",
     "output_type": "stream",
     "text": [
      "Epoch 23/200: 100%|██████████| 195/195 [00:01<00:00, 102.80batch/s, loss=0.632]\n"
     ]
    },
    {
     "name": "stdout",
     "output_type": "stream",
     "text": [
      "Epoch 23/200, Training Loss: 0.6352634249552579\n",
      "Epoch 23/200, Validation Loss: 0.609100440842747\n"
     ]
    },
    {
     "name": "stderr",
     "output_type": "stream",
     "text": [
      "Epoch 24/200: 100%|██████████| 195/195 [00:01<00:00, 101.18batch/s, loss=0.624]\n"
     ]
    },
    {
     "name": "stdout",
     "output_type": "stream",
     "text": [
      "Epoch 24/200, Training Loss: 0.6275529684561525\n",
      "Epoch 24/200, Validation Loss: 0.6030211937406448\n"
     ]
    },
    {
     "name": "stderr",
     "output_type": "stream",
     "text": [
      "Epoch 25/200: 100%|██████████| 195/195 [00:03<00:00, 59.10batch/s, loss=0.618]\n"
     ]
    },
    {
     "name": "stdout",
     "output_type": "stream",
     "text": [
      "Epoch 25/200, Training Loss: 0.62107064992877\n",
      "Epoch 25/200, Validation Loss: 0.5995555580813252\n"
     ]
    },
    {
     "name": "stderr",
     "output_type": "stream",
     "text": [
      "Epoch 26/200: 100%|██████████| 195/195 [00:02<00:00, 85.49batch/s, loss=0.612] \n"
     ]
    },
    {
     "name": "stdout",
     "output_type": "stream",
     "text": [
      "Epoch 26/200, Training Loss: 0.6155481016017905\n",
      "Epoch 26/200, Validation Loss: 0.5975442081842074\n"
     ]
    },
    {
     "name": "stderr",
     "output_type": "stream",
     "text": [
      "Epoch 27/200: 100%|██████████| 195/195 [00:02<00:00, 78.22batch/s, loss=0.608]\n"
     ]
    },
    {
     "name": "stdout",
     "output_type": "stream",
     "text": [
      "Epoch 27/200, Training Loss: 0.610966214235476\n",
      "Epoch 27/200, Validation Loss: 0.5950382899567251\n"
     ]
    },
    {
     "name": "stderr",
     "output_type": "stream",
     "text": [
      "Epoch 28/200: 100%|██████████| 195/195 [00:02<00:00, 88.67batch/s, loss=0.604] \n"
     ]
    },
    {
     "name": "stdout",
     "output_type": "stream",
     "text": [
      "Epoch 28/200, Training Loss: 0.6071057441877821\n",
      "Epoch 28/200, Validation Loss: 0.592567239259084\n"
     ]
    },
    {
     "name": "stderr",
     "output_type": "stream",
     "text": [
      "Epoch 29/200: 100%|██████████| 195/195 [00:02<00:00, 92.46batch/s, loss=0.601] \n"
     ]
    },
    {
     "name": "stdout",
     "output_type": "stream",
     "text": [
      "Epoch 29/200, Training Loss: 0.603849781230513\n",
      "Epoch 29/200, Validation Loss: 0.592811879896237\n"
     ]
    },
    {
     "name": "stderr",
     "output_type": "stream",
     "text": [
      "Epoch 30/200: 100%|██████████| 195/195 [00:02<00:00, 82.60batch/s, loss=0.598]\n"
     ]
    },
    {
     "name": "stdout",
     "output_type": "stream",
     "text": [
      "Epoch 30/200, Training Loss: 0.6008218358019418\n",
      "Epoch 30/200, Validation Loss: 0.5905890839725453\n"
     ]
    },
    {
     "name": "stderr",
     "output_type": "stream",
     "text": [
      "Epoch 31/200: 100%|██████████| 195/195 [00:01<00:00, 106.49batch/s, loss=0.595]\n"
     ]
    },
    {
     "name": "stdout",
     "output_type": "stream",
     "text": [
      "Epoch 31/200, Training Loss: 0.5982467175432543\n",
      "Epoch 31/200, Validation Loss: 0.5887807381176519\n"
     ]
    },
    {
     "name": "stderr",
     "output_type": "stream",
     "text": [
      "Epoch 32/200: 100%|██████████| 195/195 [00:01<00:00, 107.35batch/s, loss=0.593]\n"
     ]
    },
    {
     "name": "stdout",
     "output_type": "stream",
     "text": [
      "Epoch 32/200, Training Loss: 0.5959510714757535\n",
      "Epoch 32/200, Validation Loss: 0.5870974284611162\n"
     ]
    },
    {
     "name": "stderr",
     "output_type": "stream",
     "text": [
      "Epoch 33/200: 100%|██████████| 195/195 [00:02<00:00, 87.56batch/s, loss=0.591]\n"
     ]
    },
    {
     "name": "stdout",
     "output_type": "stream",
     "text": [
      "Epoch 33/200, Training Loss: 0.5937989354830109\n",
      "Epoch 33/200, Validation Loss: 0.585818108760087\n"
     ]
    },
    {
     "name": "stderr",
     "output_type": "stream",
     "text": [
      "Epoch 34/200: 100%|██████████| 195/195 [00:02<00:00, 89.33batch/s, loss=0.589] \n"
     ]
    },
    {
     "name": "stdout",
     "output_type": "stream",
     "text": [
      "Epoch 34/200, Training Loss: 0.591918805100666\n",
      "Epoch 34/200, Validation Loss: 0.5843382580433057\n"
     ]
    },
    {
     "name": "stderr",
     "output_type": "stream",
     "text": [
      "Epoch 35/200: 100%|██████████| 195/195 [00:01<00:00, 99.93batch/s, loss=0.587] \n"
     ]
    },
    {
     "name": "stdout",
     "output_type": "stream",
     "text": [
      "Epoch 35/200, Training Loss: 0.59020752523918\n",
      "Epoch 35/200, Validation Loss: 0.5827056178387514\n"
     ]
    },
    {
     "name": "stderr",
     "output_type": "stream",
     "text": [
      "Epoch 36/200: 100%|██████████| 195/195 [00:02<00:00, 83.39batch/s, loss=0.586]\n"
     ]
    },
    {
     "name": "stdout",
     "output_type": "stream",
     "text": [
      "Epoch 36/200, Training Loss: 0.5886585886989267\n",
      "Epoch 36/200, Validation Loss: 0.581381034563399\n"
     ]
    },
    {
     "name": "stderr",
     "output_type": "stream",
     "text": [
      "Epoch 37/200: 100%|██████████| 195/195 [00:02<00:00, 93.34batch/s, loss=0.584] \n"
     ]
    },
    {
     "name": "stdout",
     "output_type": "stream",
     "text": [
      "Epoch 37/200, Training Loss: 0.5872336054648859\n",
      "Epoch 37/200, Validation Loss: 0.5805751378885329\n"
     ]
    },
    {
     "name": "stderr",
     "output_type": "stream",
     "text": [
      "Epoch 38/200: 100%|██████████| 195/195 [00:02<00:00, 96.49batch/s, loss=0.583] \n"
     ]
    },
    {
     "name": "stdout",
     "output_type": "stream",
     "text": [
      "Epoch 38/200, Training Loss: 0.5858034674430187\n",
      "Epoch 38/200, Validation Loss: 0.5796115710395565\n"
     ]
    },
    {
     "name": "stderr",
     "output_type": "stream",
     "text": [
      "Epoch 39/200: 100%|██████████| 195/195 [00:02<00:00, 88.32batch/s, loss=0.582]\n"
     ]
    },
    {
     "name": "stdout",
     "output_type": "stream",
     "text": [
      "Epoch 39/200, Training Loss: 0.5846534165331216\n",
      "Epoch 39/200, Validation Loss: 0.5777530846639108\n"
     ]
    },
    {
     "name": "stderr",
     "output_type": "stream",
     "text": [
      "Epoch 40/200: 100%|██████████| 195/195 [00:02<00:00, 90.42batch/s, loss=0.58]  \n"
     ]
    },
    {
     "name": "stdout",
     "output_type": "stream",
     "text": [
      "Epoch 40/200, Training Loss: 0.5833824212196175\n",
      "Epoch 40/200, Validation Loss: 0.5764068310933708\n"
     ]
    },
    {
     "name": "stderr",
     "output_type": "stream",
     "text": [
      "Epoch 41/200: 100%|██████████| 195/195 [00:01<00:00, 99.86batch/s, loss=0.579] \n"
     ]
    },
    {
     "name": "stdout",
     "output_type": "stream",
     "text": [
      "Epoch 41/200, Training Loss: 0.5822270105247498\n",
      "Epoch 41/200, Validation Loss: 0.575719693458234\n"
     ]
    },
    {
     "name": "stderr",
     "output_type": "stream",
     "text": [
      "Epoch 42/200: 100%|██████████| 195/195 [00:02<00:00, 89.37batch/s, loss=0.578]\n"
     ]
    },
    {
     "name": "stdout",
     "output_type": "stream",
     "text": [
      "Epoch 42/200, Training Loss: 0.5810673532551266\n",
      "Epoch 42/200, Validation Loss: 0.5747625238865819\n"
     ]
    },
    {
     "name": "stderr",
     "output_type": "stream",
     "text": [
      "Epoch 43/200: 100%|██████████| 195/195 [00:02<00:00, 74.66batch/s, loss=0.577] \n"
     ]
    },
    {
     "name": "stdout",
     "output_type": "stream",
     "text": [
      "Epoch 43/200, Training Loss: 0.5800579981416859\n",
      "Epoch 43/200, Validation Loss: 0.5738098810922999\n"
     ]
    },
    {
     "name": "stderr",
     "output_type": "stream",
     "text": [
      "Epoch 44/200: 100%|██████████| 195/195 [00:01<00:00, 101.61batch/s, loss=0.576]\n"
     ]
    },
    {
     "name": "stdout",
     "output_type": "stream",
     "text": [
      "Epoch 44/200, Training Loss: 0.5788820334527581\n",
      "Epoch 44/200, Validation Loss: 0.5728587470791442\n"
     ]
    },
    {
     "name": "stderr",
     "output_type": "stream",
     "text": [
      "Epoch 45/200: 100%|██████████| 195/195 [00:02<00:00, 86.00batch/s, loss=0.575]\n"
     ]
    },
    {
     "name": "stdout",
     "output_type": "stream",
     "text": [
      "Epoch 45/200, Training Loss: 0.5779117376442129\n",
      "Epoch 45/200, Validation Loss: 0.5721486177062582\n"
     ]
    },
    {
     "name": "stderr",
     "output_type": "stream",
     "text": [
      "Epoch 46/200: 100%|██████████| 195/195 [00:02<00:00, 87.10batch/s, loss=0.574] \n"
     ]
    },
    {
     "name": "stdout",
     "output_type": "stream",
     "text": [
      "Epoch 46/200, Training Loss: 0.5770789422278696\n",
      "Epoch 46/200, Validation Loss: 0.5715604363091034\n"
     ]
    },
    {
     "name": "stderr",
     "output_type": "stream",
     "text": [
      "Epoch 47/200: 100%|██████████| 195/195 [00:01<00:00, 103.33batch/s, loss=0.573]\n"
     ]
    },
    {
     "name": "stdout",
     "output_type": "stream",
     "text": [
      "Epoch 47/200, Training Loss: 0.5764324876133484\n",
      "Epoch 47/200, Validation Loss: 0.5708081856485899\n"
     ]
    },
    {
     "name": "stderr",
     "output_type": "stream",
     "text": [
      "Epoch 48/200: 100%|██████████| 195/195 [00:02<00:00, 81.34batch/s, loss=0.572]\n"
     ]
    },
    {
     "name": "stdout",
     "output_type": "stream",
     "text": [
      "Epoch 48/200, Training Loss: 0.5754332039457215\n",
      "Epoch 48/200, Validation Loss: 0.5702853183385664\n"
     ]
    },
    {
     "name": "stderr",
     "output_type": "stream",
     "text": [
      "Epoch 49/200: 100%|██████████| 195/195 [00:02<00:00, 88.19batch/s, loss=0.572] \n"
     ]
    },
    {
     "name": "stdout",
     "output_type": "stream",
     "text": [
      "Epoch 49/200, Training Loss: 0.5747501339285723\n",
      "Epoch 49/200, Validation Loss: 0.5692359014182777\n"
     ]
    },
    {
     "name": "stderr",
     "output_type": "stream",
     "text": [
      "Epoch 50/200: 100%|██████████| 195/195 [00:01<00:00, 99.09batch/s, loss=0.571] \n"
     ]
    },
    {
     "name": "stdout",
     "output_type": "stream",
     "text": [
      "Epoch 50/200, Training Loss: 0.5739699364465592\n",
      "Epoch 50/200, Validation Loss: 0.5687659691133727\n"
     ]
    },
    {
     "name": "stderr",
     "output_type": "stream",
     "text": [
      "Epoch 51/200: 100%|██████████| 195/195 [00:02<00:00, 95.00batch/s, loss=0.57]  \n"
     ]
    },
    {
     "name": "stdout",
     "output_type": "stream",
     "text": [
      "Epoch 51/200, Training Loss: 0.573226315158705\n",
      "Epoch 51/200, Validation Loss: 0.567868612174417\n"
     ]
    },
    {
     "name": "stderr",
     "output_type": "stream",
     "text": [
      "Epoch 52/200: 100%|██████████| 195/195 [00:02<00:00, 91.15batch/s, loss=0.569] \n"
     ]
    },
    {
     "name": "stdout",
     "output_type": "stream",
     "text": [
      "Epoch 52/200, Training Loss: 0.5725860581415221\n",
      "Epoch 52/200, Validation Loss: 0.5674757843240285\n"
     ]
    },
    {
     "name": "stderr",
     "output_type": "stream",
     "text": [
      "Epoch 53/200: 100%|██████████| 195/195 [00:02<00:00, 91.92batch/s, loss=0.569] \n"
     ]
    },
    {
     "name": "stdout",
     "output_type": "stream",
     "text": [
      "Epoch 53/200, Training Loss: 0.5719759064040415\n",
      "Epoch 53/200, Validation Loss: 0.5670104672177875\n"
     ]
    },
    {
     "name": "stderr",
     "output_type": "stream",
     "text": [
      "Epoch 54/200: 100%|██████████| 195/195 [00:02<00:00, 97.34batch/s, loss=0.568] \n"
     ]
    },
    {
     "name": "stdout",
     "output_type": "stream",
     "text": [
      "Epoch 54/200, Training Loss: 0.5712872323637392\n",
      "Epoch 54/200, Validation Loss: 0.5662626480972637\n"
     ]
    },
    {
     "name": "stderr",
     "output_type": "stream",
     "text": [
      "Epoch 55/200: 100%|██████████| 195/195 [00:02<00:00, 84.07batch/s, loss=0.568] \n"
     ]
    },
    {
     "name": "stdout",
     "output_type": "stream",
     "text": [
      "Epoch 55/200, Training Loss: 0.5706657531754793\n",
      "Epoch 55/200, Validation Loss: 0.5658195088228688\n"
     ]
    },
    {
     "name": "stderr",
     "output_type": "stream",
     "text": [
      "Epoch 56/200: 100%|██████████| 195/195 [00:02<00:00, 76.78batch/s, loss=0.567] \n"
     ]
    },
    {
     "name": "stdout",
     "output_type": "stream",
     "text": [
      "Epoch 56/200, Training Loss: 0.5699699563998246\n",
      "Epoch 56/200, Validation Loss: 0.5653481722286428\n"
     ]
    },
    {
     "name": "stderr",
     "output_type": "stream",
     "text": [
      "Epoch 57/200: 100%|██████████| 195/195 [00:02<00:00, 80.64batch/s, loss=0.566] \n"
     ]
    },
    {
     "name": "stdout",
     "output_type": "stream",
     "text": [
      "Epoch 57/200, Training Loss: 0.5693853313587054\n",
      "Epoch 57/200, Validation Loss: 0.5657883252087118\n"
     ]
    },
    {
     "name": "stderr",
     "output_type": "stream",
     "text": [
      "Epoch 58/200: 100%|██████████| 195/195 [00:02<00:00, 85.82batch/s, loss=0.566]\n"
     ]
    },
    {
     "name": "stdout",
     "output_type": "stream",
     "text": [
      "Epoch 58/200, Training Loss: 0.5687296937928771\n",
      "Epoch 58/200, Validation Loss: 0.5649668165244327\n"
     ]
    },
    {
     "name": "stderr",
     "output_type": "stream",
     "text": [
      "Epoch 59/200: 100%|██████████| 195/195 [00:02<00:00, 96.41batch/s, loss=0.565] \n"
     ]
    },
    {
     "name": "stdout",
     "output_type": "stream",
     "text": [
      "Epoch 59/200, Training Loss: 0.5681110724001158\n",
      "Epoch 59/200, Validation Loss: 0.5646475194753887\n"
     ]
    },
    {
     "name": "stderr",
     "output_type": "stream",
     "text": [
      "Epoch 60/200: 100%|██████████| 195/195 [00:02<00:00, 80.48batch/s, loss=0.564]\n"
     ]
    },
    {
     "name": "stdout",
     "output_type": "stream",
     "text": [
      "Epoch 60/200, Training Loss: 0.567472985246917\n",
      "Epoch 60/200, Validation Loss: 0.5647079871208277\n"
     ]
    },
    {
     "name": "stderr",
     "output_type": "stream",
     "text": [
      "Epoch 61/200: 100%|██████████| 195/195 [00:02<00:00, 79.05batch/s, loss=0.564]\n"
     ]
    },
    {
     "name": "stdout",
     "output_type": "stream",
     "text": [
      "Epoch 61/200, Training Loss: 0.5667402102045912\n",
      "Epoch 61/200, Validation Loss: 0.5641821137877532\n"
     ]
    },
    {
     "name": "stderr",
     "output_type": "stream",
     "text": [
      "Epoch 62/200: 100%|██████████| 195/195 [00:01<00:00, 109.93batch/s, loss=0.563]\n"
     ]
    },
    {
     "name": "stdout",
     "output_type": "stream",
     "text": [
      "Epoch 62/200, Training Loss: 0.5662601239596399\n",
      "Epoch 62/200, Validation Loss: 0.5647316335307895\n"
     ]
    },
    {
     "name": "stderr",
     "output_type": "stream",
     "text": [
      "Epoch 63/200: 100%|██████████| 195/195 [00:02<00:00, 77.46batch/s, loss=0.562]\n"
     ]
    },
    {
     "name": "stdout",
     "output_type": "stream",
     "text": [
      "Epoch 63/200, Training Loss: 0.5656343979954868\n",
      "Epoch 63/200, Validation Loss: 0.5657439872219528\n"
     ]
    },
    {
     "name": "stderr",
     "output_type": "stream",
     "text": [
      "Epoch 64/200: 100%|██████████| 195/195 [00:01<00:00, 99.96batch/s, loss=0.562] \n"
     ]
    },
    {
     "name": "stdout",
     "output_type": "stream",
     "text": [
      "Epoch 64/200, Training Loss: 0.5648413304301689\n",
      "Epoch 64/200, Validation Loss: 0.5648620493171452\n"
     ]
    },
    {
     "name": "stderr",
     "output_type": "stream",
     "text": [
      "Epoch 65/200: 100%|██████████| 195/195 [00:02<00:00, 84.27batch/s, loss=0.561]\n"
     ]
    },
    {
     "name": "stdout",
     "output_type": "stream",
     "text": [
      "Epoch 65/200, Training Loss: 0.5638907769000904\n",
      "Epoch 65/200, Validation Loss: 0.5650371767724404\n"
     ]
    },
    {
     "name": "stderr",
     "output_type": "stream",
     "text": [
      "Epoch 66/200: 100%|██████████| 195/195 [00:02<00:00, 82.63batch/s, loss=0.56] \n"
     ]
    },
    {
     "name": "stdout",
     "output_type": "stream",
     "text": [
      "Epoch 66/200, Training Loss: 0.5630971265262938\n",
      "Epoch 66/200, Validation Loss: 0.5641206550991854\n"
     ]
    },
    {
     "name": "stderr",
     "output_type": "stream",
     "text": [
      "Epoch 67/200: 100%|██████████| 195/195 [00:02<00:00, 88.70batch/s, loss=0.559] \n"
     ]
    },
    {
     "name": "stdout",
     "output_type": "stream",
     "text": [
      "Epoch 67/200, Training Loss: 0.5620808336196609\n",
      "Epoch 67/200, Validation Loss: 0.5642631006452283\n"
     ]
    },
    {
     "name": "stderr",
     "output_type": "stream",
     "text": [
      "Epoch 68/200: 100%|██████████| 195/195 [00:02<00:00, 79.32batch/s, loss=0.558]\n"
     ]
    },
    {
     "name": "stdout",
     "output_type": "stream",
     "text": [
      "Epoch 68/200, Training Loss: 0.561133338672753\n",
      "Epoch 68/200, Validation Loss: 0.5641271322081518\n"
     ]
    },
    {
     "name": "stderr",
     "output_type": "stream",
     "text": [
      "Epoch 69/200: 100%|██████████| 195/195 [00:02<00:00, 88.49batch/s, loss=0.557]\n"
     ]
    },
    {
     "name": "stdout",
     "output_type": "stream",
     "text": [
      "Epoch 69/200, Training Loss: 0.5600280876803392\n",
      "Epoch 69/200, Validation Loss: 0.5637515229715659\n"
     ]
    },
    {
     "name": "stderr",
     "output_type": "stream",
     "text": [
      "Epoch 70/200: 100%|██████████| 195/195 [00:02<00:00, 83.20batch/s, loss=0.556]\n"
     ]
    },
    {
     "name": "stdout",
     "output_type": "stream",
     "text": [
      "Epoch 70/200, Training Loss: 0.558823487318524\n",
      "Epoch 70/200, Validation Loss: 0.5632929777508228\n"
     ]
    },
    {
     "name": "stderr",
     "output_type": "stream",
     "text": [
      "Epoch 71/200: 100%|██████████| 195/195 [00:02<00:00, 85.40batch/s, loss=0.554] \n"
     ]
    },
    {
     "name": "stdout",
     "output_type": "stream",
     "text": [
      "Epoch 71/200, Training Loss: 0.5574670175225345\n",
      "Epoch 71/200, Validation Loss: 0.563139309730447\n"
     ]
    },
    {
     "name": "stderr",
     "output_type": "stream",
     "text": [
      "Epoch 72/200: 100%|██████████| 195/195 [00:02<00:00, 97.18batch/s, loss=0.553] \n"
     ]
    },
    {
     "name": "stdout",
     "output_type": "stream",
     "text": [
      "Epoch 72/200, Training Loss: 0.5560935843884378\n",
      "Epoch 72/200, Validation Loss: 0.5630595072686936\n"
     ]
    },
    {
     "name": "stderr",
     "output_type": "stream",
     "text": [
      "Epoch 73/200: 100%|██████████| 195/195 [00:02<00:00, 88.44batch/s, loss=0.552] \n"
     ]
    },
    {
     "name": "stdout",
     "output_type": "stream",
     "text": [
      "Epoch 73/200, Training Loss: 0.5551430101387206\n",
      "Epoch 73/200, Validation Loss: 0.55966701552539\n"
     ]
    },
    {
     "name": "stderr",
     "output_type": "stream",
     "text": [
      "Epoch 74/200: 100%|██████████| 195/195 [00:02<00:00, 86.88batch/s, loss=0.551] \n"
     ]
    },
    {
     "name": "stdout",
     "output_type": "stream",
     "text": [
      "Epoch 74/200, Training Loss: 0.5542050744258181\n",
      "Epoch 74/200, Validation Loss: 0.5581704944825479\n"
     ]
    },
    {
     "name": "stderr",
     "output_type": "stream",
     "text": [
      "Epoch 75/200: 100%|██████████| 195/195 [00:02<00:00, 96.67batch/s, loss=0.55]  \n"
     ]
    },
    {
     "name": "stdout",
     "output_type": "stream",
     "text": [
      "Epoch 75/200, Training Loss: 0.5530906053840186\n",
      "Epoch 75/200, Validation Loss: 0.5575298722074025\n"
     ]
    },
    {
     "name": "stderr",
     "output_type": "stream",
     "text": [
      "Epoch 76/200: 100%|██████████| 195/195 [00:02<00:00, 80.39batch/s, loss=0.549] \n"
     ]
    },
    {
     "name": "stdout",
     "output_type": "stream",
     "text": [
      "Epoch 76/200, Training Loss: 0.5519431035265785\n",
      "Epoch 76/200, Validation Loss: 0.5574679137209357\n"
     ]
    },
    {
     "name": "stderr",
     "output_type": "stream",
     "text": [
      "Epoch 77/200: 100%|██████████| 195/195 [00:02<00:00, 88.56batch/s, loss=0.548] \n"
     ]
    },
    {
     "name": "stdout",
     "output_type": "stream",
     "text": [
      "Epoch 77/200, Training Loss: 0.5509327266246172\n",
      "Epoch 77/200, Validation Loss: 0.5551715645431741\n"
     ]
    },
    {
     "name": "stderr",
     "output_type": "stream",
     "text": [
      "Epoch 78/200: 100%|██████████| 195/195 [00:02<00:00, 95.68batch/s, loss=0.546] \n"
     ]
    },
    {
     "name": "stdout",
     "output_type": "stream",
     "text": [
      "Epoch 78/200, Training Loss: 0.549544839455833\n",
      "Epoch 78/200, Validation Loss: 0.5547695146143701\n"
     ]
    },
    {
     "name": "stderr",
     "output_type": "stream",
     "text": [
      "Epoch 79/200: 100%|██████████| 195/195 [00:02<00:00, 86.52batch/s, loss=0.545]\n"
     ]
    },
    {
     "name": "stdout",
     "output_type": "stream",
     "text": [
      "Epoch 79/200, Training Loss: 0.5481174455086956\n",
      "Epoch 79/200, Validation Loss: 0.5544931860618992\n"
     ]
    },
    {
     "name": "stderr",
     "output_type": "stream",
     "text": [
      "Epoch 80/200: 100%|██████████| 195/195 [00:02<00:00, 93.19batch/s, loss=0.543] \n"
     ]
    },
    {
     "name": "stdout",
     "output_type": "stream",
     "text": [
      "Epoch 80/200, Training Loss: 0.5464690111594223\n",
      "Epoch 80/200, Validation Loss: 0.5538913163805383\n"
     ]
    },
    {
     "name": "stderr",
     "output_type": "stream",
     "text": [
      "Epoch 81/200: 100%|██████████| 195/195 [00:01<00:00, 105.01batch/s, loss=0.534]\n"
     ]
    },
    {
     "name": "stdout",
     "output_type": "stream",
     "text": [
      "Epoch 81/200, Training Loss: 0.5378828919841033\n",
      "Epoch 81/200, Validation Loss: 0.5396209974410627\n"
     ]
    },
    {
     "name": "stderr",
     "output_type": "stream",
     "text": [
      "Epoch 82/200: 100%|██████████| 195/195 [00:02<00:00, 93.18batch/s, loss=0.533] \n"
     ]
    },
    {
     "name": "stdout",
     "output_type": "stream",
     "text": [
      "Epoch 82/200, Training Loss: 0.5369854270113665\n",
      "Epoch 82/200, Validation Loss: 0.5391416821448661\n"
     ]
    },
    {
     "name": "stderr",
     "output_type": "stream",
     "text": [
      "Epoch 83/200: 100%|██████████| 195/195 [00:02<00:00, 81.34batch/s, loss=0.533] \n"
     ]
    },
    {
     "name": "stdout",
     "output_type": "stream",
     "text": [
      "Epoch 83/200, Training Loss: 0.5362766678114771\n",
      "Epoch 83/200, Validation Loss: 0.5385706970945456\n"
     ]
    },
    {
     "name": "stderr",
     "output_type": "stream",
     "text": [
      "Epoch 84/200: 100%|██████████| 195/195 [00:01<00:00, 108.85batch/s, loss=0.532]\n"
     ]
    },
    {
     "name": "stdout",
     "output_type": "stream",
     "text": [
      "Epoch 84/200, Training Loss: 0.5354677846185362\n",
      "Epoch 84/200, Validation Loss: 0.537792260953068\n"
     ]
    },
    {
     "name": "stderr",
     "output_type": "stream",
     "text": [
      "Epoch 85/200: 100%|██████████| 195/195 [00:02<00:00, 93.01batch/s, loss=0.531] \n"
     ]
    },
    {
     "name": "stdout",
     "output_type": "stream",
     "text": [
      "Epoch 85/200, Training Loss: 0.5347020520796792\n",
      "Epoch 85/200, Validation Loss: 0.5371007613597608\n"
     ]
    },
    {
     "name": "stderr",
     "output_type": "stream",
     "text": [
      "Epoch 86/200: 100%|██████████| 195/195 [00:02<00:00, 85.06batch/s, loss=0.53] \n"
     ]
    },
    {
     "name": "stdout",
     "output_type": "stream",
     "text": [
      "Epoch 86/200, Training Loss: 0.5338370616044337\n",
      "Epoch 86/200, Validation Loss: 0.5360754497292306\n"
     ]
    },
    {
     "name": "stderr",
     "output_type": "stream",
     "text": [
      "Epoch 87/200: 100%|██████████| 195/195 [00:01<00:00, 104.06batch/s, loss=0.529]\n"
     ]
    },
    {
     "name": "stdout",
     "output_type": "stream",
     "text": [
      "Epoch 87/200, Training Loss: 0.532966590539446\n",
      "Epoch 87/200, Validation Loss: 0.5352434392288579\n"
     ]
    },
    {
     "name": "stderr",
     "output_type": "stream",
     "text": [
      "Epoch 88/200: 100%|██████████| 195/195 [00:02<00:00, 81.88batch/s, loss=0.528]\n"
     ]
    },
    {
     "name": "stdout",
     "output_type": "stream",
     "text": [
      "Epoch 88/200, Training Loss: 0.5321757172773477\n",
      "Epoch 88/200, Validation Loss: 0.5343862012641798\n"
     ]
    },
    {
     "name": "stderr",
     "output_type": "stream",
     "text": [
      "Epoch 89/200: 100%|██████████| 195/195 [00:02<00:00, 96.45batch/s, loss=0.528] \n"
     ]
    },
    {
     "name": "stdout",
     "output_type": "stream",
     "text": [
      "Epoch 89/200, Training Loss: 0.5313719974850506\n",
      "Epoch 89/200, Validation Loss: 0.5335846061173536\n"
     ]
    },
    {
     "name": "stderr",
     "output_type": "stream",
     "text": [
      "Epoch 90/200: 100%|██████████| 195/195 [00:01<00:00, 104.88batch/s, loss=0.527]\n"
     ]
    },
    {
     "name": "stdout",
     "output_type": "stream",
     "text": [
      "Epoch 90/200, Training Loss: 0.5304028199700244\n",
      "Epoch 90/200, Validation Loss: 0.5324456162855775\n"
     ]
    },
    {
     "name": "stderr",
     "output_type": "stream",
     "text": [
      "Epoch 91/200: 100%|██████████| 195/195 [00:02<00:00, 77.72batch/s, loss=0.526]\n"
     ]
    },
    {
     "name": "stdout",
     "output_type": "stream",
     "text": [
      "Epoch 91/200, Training Loss: 0.5294736378844813\n",
      "Epoch 91/200, Validation Loss: 0.5315940375921292\n"
     ]
    },
    {
     "name": "stderr",
     "output_type": "stream",
     "text": [
      "Epoch 92/200: 100%|██████████| 195/195 [00:02<00:00, 94.42batch/s, loss=0.525] \n"
     ]
    },
    {
     "name": "stdout",
     "output_type": "stream",
     "text": [
      "Epoch 92/200, Training Loss: 0.528443484213494\n",
      "Epoch 92/200, Validation Loss: 0.5303975979753867\n"
     ]
    },
    {
     "name": "stderr",
     "output_type": "stream",
     "text": [
      "Epoch 93/200: 100%|██████████| 195/195 [00:01<00:00, 101.81batch/s, loss=0.523]\n"
     ]
    },
    {
     "name": "stdout",
     "output_type": "stream",
     "text": [
      "Epoch 93/200, Training Loss: 0.5271838313073888\n",
      "Epoch 93/200, Validation Loss: 0.5289928340293584\n"
     ]
    },
    {
     "name": "stderr",
     "output_type": "stream",
     "text": [
      "Epoch 94/200: 100%|██████████| 195/195 [00:02<00:00, 90.68batch/s, loss=0.522]\n"
     ]
    },
    {
     "name": "stdout",
     "output_type": "stream",
     "text": [
      "Epoch 94/200, Training Loss: 0.5259997365131626\n",
      "Epoch 94/200, Validation Loss: 0.5277823409280002\n"
     ]
    },
    {
     "name": "stderr",
     "output_type": "stream",
     "text": [
      "Epoch 95/200: 100%|██████████| 195/195 [00:02<00:00, 91.04batch/s, loss=0.521] \n"
     ]
    },
    {
     "name": "stdout",
     "output_type": "stream",
     "text": [
      "Epoch 95/200, Training Loss: 0.5245921423450184\n",
      "Epoch 95/200, Validation Loss: 0.5263294828990921\n"
     ]
    },
    {
     "name": "stderr",
     "output_type": "stream",
     "text": [
      "Epoch 96/200: 100%|██████████| 195/195 [00:01<00:00, 101.80batch/s, loss=0.519]\n"
     ]
    },
    {
     "name": "stdout",
     "output_type": "stream",
     "text": [
      "Epoch 96/200, Training Loss: 0.5229782977331765\n",
      "Epoch 96/200, Validation Loss: 0.5247031349356389\n"
     ]
    },
    {
     "name": "stderr",
     "output_type": "stream",
     "text": [
      "Epoch 97/200: 100%|██████████| 195/195 [00:02<00:00, 89.72batch/s, loss=0.518]\n"
     ]
    },
    {
     "name": "stdout",
     "output_type": "stream",
     "text": [
      "Epoch 97/200, Training Loss: 0.5214873848273938\n",
      "Epoch 97/200, Validation Loss: 0.522833833673788\n"
     ]
    },
    {
     "name": "stderr",
     "output_type": "stream",
     "text": [
      "Epoch 98/200: 100%|██████████| 195/195 [00:02<00:00, 86.76batch/s, loss=0.516] \n"
     ]
    },
    {
     "name": "stdout",
     "output_type": "stream",
     "text": [
      "Epoch 98/200, Training Loss: 0.5196783742430724\n",
      "Epoch 98/200, Validation Loss: 0.5208081524514494\n"
     ]
    },
    {
     "name": "stderr",
     "output_type": "stream",
     "text": [
      "Epoch 99/200: 100%|██████████| 195/195 [00:01<00:00, 103.66batch/s, loss=0.514]\n"
     ]
    },
    {
     "name": "stdout",
     "output_type": "stream",
     "text": [
      "Epoch 99/200, Training Loss: 0.5177312410772511\n",
      "Epoch 99/200, Validation Loss: 0.5187677473872386\n"
     ]
    },
    {
     "name": "stderr",
     "output_type": "stream",
     "text": [
      "Epoch 100/200: 100%|██████████| 195/195 [00:02<00:00, 94.04batch/s, loss=0.512] \n"
     ]
    },
    {
     "name": "stdout",
     "output_type": "stream",
     "text": [
      "Epoch 100/200, Training Loss: 0.5157145769401045\n",
      "Epoch 100/200, Validation Loss: 0.5165020972808556\n"
     ]
    },
    {
     "name": "stderr",
     "output_type": "stream",
     "text": [
      "Epoch 101/200: 100%|██████████| 195/195 [00:02<00:00, 87.02batch/s, loss=0.509]\n"
     ]
    },
    {
     "name": "stdout",
     "output_type": "stream",
     "text": [
      "Epoch 101/200, Training Loss: 0.5132157959100827\n",
      "Epoch 101/200, Validation Loss: 0.5140315115036973\n"
     ]
    },
    {
     "name": "stderr",
     "output_type": "stream",
     "text": [
      "Epoch 102/200: 100%|██████████| 195/195 [00:01<00:00, 105.35batch/s, loss=0.507]\n"
     ]
    },
    {
     "name": "stdout",
     "output_type": "stream",
     "text": [
      "Epoch 102/200, Training Loss: 0.5106395352980916\n",
      "Epoch 102/200, Validation Loss: 0.5115159238625271\n"
     ]
    },
    {
     "name": "stderr",
     "output_type": "stream",
     "text": [
      "Epoch 103/200: 100%|██████████| 195/195 [00:02<00:00, 95.64batch/s, loss=0.504] \n"
     ]
    },
    {
     "name": "stdout",
     "output_type": "stream",
     "text": [
      "Epoch 103/200, Training Loss: 0.5077727465582617\n",
      "Epoch 103/200, Validation Loss: 0.50886276735438\n"
     ]
    },
    {
     "name": "stderr",
     "output_type": "stream",
     "text": [
      "Epoch 104/200: 100%|██████████| 195/195 [00:02<00:00, 89.76batch/s, loss=0.501] \n"
     ]
    },
    {
     "name": "stdout",
     "output_type": "stream",
     "text": [
      "Epoch 104/200, Training Loss: 0.5047281737135053\n",
      "Epoch 104/200, Validation Loss: 0.5061826163356568\n"
     ]
    },
    {
     "name": "stderr",
     "output_type": "stream",
     "text": [
      "Epoch 105/200: 100%|██████████| 195/195 [00:01<00:00, 110.13batch/s, loss=0.497]\n"
     ]
    },
    {
     "name": "stdout",
     "output_type": "stream",
     "text": [
      "Epoch 105/200, Training Loss: 0.5012181556256957\n",
      "Epoch 105/200, Validation Loss: 0.5040360567833395\n"
     ]
    },
    {
     "name": "stderr",
     "output_type": "stream",
     "text": [
      "Epoch 106/200: 100%|██████████| 195/195 [00:02<00:00, 90.74batch/s, loss=0.493] \n"
     ]
    },
    {
     "name": "stdout",
     "output_type": "stream",
     "text": [
      "Epoch 106/200, Training Loss: 0.49712748851968785\n",
      "Epoch 106/200, Validation Loss: 0.5029214295678153\n"
     ]
    },
    {
     "name": "stderr",
     "output_type": "stream",
     "text": [
      "Epoch 107/200: 100%|██████████| 195/195 [00:02<00:00, 93.28batch/s, loss=0.489] \n"
     ]
    },
    {
     "name": "stdout",
     "output_type": "stream",
     "text": [
      "Epoch 107/200, Training Loss: 0.49285514824861\n",
      "Epoch 107/200, Validation Loss: 0.5025227166498173\n"
     ]
    },
    {
     "name": "stderr",
     "output_type": "stream",
     "text": [
      "Epoch 108/200: 100%|██████████| 195/195 [00:02<00:00, 85.28batch/s, loss=0.484] \n"
     ]
    },
    {
     "name": "stdout",
     "output_type": "stream",
     "text": [
      "Epoch 108/200, Training Loss: 0.4878964751194709\n",
      "Epoch 108/200, Validation Loss: 0.49992663565448175\n"
     ]
    },
    {
     "name": "stderr",
     "output_type": "stream",
     "text": [
      "Epoch 109/200: 100%|██████████| 195/195 [00:02<00:00, 78.83batch/s, loss=0.479]\n"
     ]
    },
    {
     "name": "stdout",
     "output_type": "stream",
     "text": [
      "Epoch 109/200, Training Loss: 0.482765774004635\n",
      "Epoch 109/200, Validation Loss: 0.49672320989058677\n"
     ]
    },
    {
     "name": "stderr",
     "output_type": "stream",
     "text": [
      "Epoch 110/200: 100%|██████████| 195/195 [00:02<00:00, 77.70batch/s, loss=0.474]\n"
     ]
    },
    {
     "name": "stdout",
     "output_type": "stream",
     "text": [
      "Epoch 110/200, Training Loss: 0.47751933562426435\n",
      "Epoch 110/200, Validation Loss: 0.4923385880794539\n"
     ]
    },
    {
     "name": "stderr",
     "output_type": "stream",
     "text": [
      "Epoch 111/200: 100%|██████████| 195/195 [00:02<00:00, 95.56batch/s, loss=0.468] \n"
     ]
    },
    {
     "name": "stdout",
     "output_type": "stream",
     "text": [
      "Epoch 111/200, Training Loss: 0.4716346943095516\n",
      "Epoch 111/200, Validation Loss: 0.48744068213551933\n"
     ]
    },
    {
     "name": "stderr",
     "output_type": "stream",
     "text": [
      "Epoch 112/200: 100%|██████████| 195/195 [00:02<00:00, 96.68batch/s, loss=0.462] \n"
     ]
    },
    {
     "name": "stdout",
     "output_type": "stream",
     "text": [
      "Epoch 112/200, Training Loss: 0.4657474394587403\n",
      "Epoch 112/200, Validation Loss: 0.48372755952228763\n"
     ]
    },
    {
     "name": "stderr",
     "output_type": "stream",
     "text": [
      "Epoch 113/200: 100%|██████████| 195/195 [00:02<00:00, 68.60batch/s, loss=0.456] \n"
     ]
    },
    {
     "name": "stdout",
     "output_type": "stream",
     "text": [
      "Epoch 113/200, Training Loss: 0.45926198733864904\n",
      "Epoch 113/200, Validation Loss: 0.47857430066254814\n"
     ]
    },
    {
     "name": "stderr",
     "output_type": "stream",
     "text": [
      "Epoch 114/200: 100%|██████████| 195/195 [00:02<00:00, 88.27batch/s, loss=0.451]\n"
     ]
    },
    {
     "name": "stdout",
     "output_type": "stream",
     "text": [
      "Epoch 114/200, Training Loss: 0.4538056940429873\n",
      "Epoch 114/200, Validation Loss: 0.47395983496576466\n"
     ]
    },
    {
     "name": "stderr",
     "output_type": "stream",
     "text": [
      "Epoch 115/200: 100%|██████████| 195/195 [00:02<00:00, 78.95batch/s, loss=0.445]\n"
     ]
    },
    {
     "name": "stdout",
     "output_type": "stream",
     "text": [
      "Epoch 115/200, Training Loss: 0.44816197526574425\n",
      "Epoch 115/200, Validation Loss: 0.47034222999295355\n"
     ]
    },
    {
     "name": "stderr",
     "output_type": "stream",
     "text": [
      "Epoch 116/200: 100%|██████████| 195/195 [00:02<00:00, 79.22batch/s, loss=0.442]\n"
     ]
    },
    {
     "name": "stdout",
     "output_type": "stream",
     "text": [
      "Epoch 116/200, Training Loss: 0.4449945937661227\n",
      "Epoch 116/200, Validation Loss: 0.467144618334502\n"
     ]
    },
    {
     "name": "stderr",
     "output_type": "stream",
     "text": [
      "Epoch 117/200: 100%|██████████| 195/195 [00:02<00:00, 93.12batch/s, loss=0.437] \n"
     ]
    },
    {
     "name": "stdout",
     "output_type": "stream",
     "text": [
      "Epoch 117/200, Training Loss: 0.43987175679444435\n",
      "Epoch 117/200, Validation Loss: 0.46360270634075623\n"
     ]
    },
    {
     "name": "stderr",
     "output_type": "stream",
     "text": [
      "Epoch 118/200: 100%|██████████| 195/195 [00:02<00:00, 79.47batch/s, loss=0.433]\n"
     ]
    },
    {
     "name": "stdout",
     "output_type": "stream",
     "text": [
      "Epoch 118/200, Training Loss: 0.43590323587574803\n",
      "Epoch 118/200, Validation Loss: 0.4620257615887344\n"
     ]
    },
    {
     "name": "stderr",
     "output_type": "stream",
     "text": [
      "Epoch 119/200: 100%|██████████| 195/195 [00:02<00:00, 94.51batch/s, loss=0.43] \n"
     ]
    },
    {
     "name": "stdout",
     "output_type": "stream",
     "text": [
      "Epoch 119/200, Training Loss: 0.4333427654386495\n",
      "Epoch 119/200, Validation Loss: 0.46109489911319795\n"
     ]
    },
    {
     "name": "stderr",
     "output_type": "stream",
     "text": [
      "Epoch 120/200: 100%|██████████| 195/195 [00:02<00:00, 90.15batch/s, loss=0.427] \n"
     ]
    },
    {
     "name": "stdout",
     "output_type": "stream",
     "text": [
      "Epoch 120/200, Training Loss: 0.43013036842872376\n",
      "Epoch 120/200, Validation Loss: 0.4580239651336756\n"
     ]
    },
    {
     "name": "stderr",
     "output_type": "stream",
     "text": [
      "Epoch 121/200: 100%|██████████| 195/195 [00:02<00:00, 92.85batch/s, loss=0.427] \n"
     ]
    },
    {
     "name": "stdout",
     "output_type": "stream",
     "text": [
      "Epoch 121/200, Training Loss: 0.42946651602582986\n",
      "Epoch 121/200, Validation Loss: 0.45193939835146724\n"
     ]
    },
    {
     "name": "stderr",
     "output_type": "stream",
     "text": [
      "Epoch 122/200: 100%|██████████| 195/195 [00:02<00:00, 95.52batch/s, loss=0.424] \n"
     ]
    },
    {
     "name": "stdout",
     "output_type": "stream",
     "text": [
      "Epoch 122/200, Training Loss: 0.4269617565167543\n",
      "Epoch 122/200, Validation Loss: 0.4484686193542615\n"
     ]
    },
    {
     "name": "stderr",
     "output_type": "stream",
     "text": [
      "Epoch 123/200: 100%|██████████| 195/195 [00:02<00:00, 83.26batch/s, loss=0.419]\n"
     ]
    },
    {
     "name": "stdout",
     "output_type": "stream",
     "text": [
      "Epoch 123/200, Training Loss: 0.42206032385078485\n",
      "Epoch 123/200, Validation Loss: 0.4411735998970266\n"
     ]
    },
    {
     "name": "stderr",
     "output_type": "stream",
     "text": [
      "Epoch 124/200: 100%|██████████| 195/195 [00:02<00:00, 83.57batch/s, loss=0.423]\n"
     ]
    },
    {
     "name": "stdout",
     "output_type": "stream",
     "text": [
      "Epoch 124/200, Training Loss: 0.426137303884229\n",
      "Epoch 124/200, Validation Loss: 0.43529517830601\n"
     ]
    },
    {
     "name": "stderr",
     "output_type": "stream",
     "text": [
      "Epoch 125/200: 100%|██████████| 195/195 [00:02<00:00, 81.49batch/s, loss=0.418]\n"
     ]
    },
    {
     "name": "stdout",
     "output_type": "stream",
     "text": [
      "Epoch 125/200, Training Loss: 0.4206811205799614\n",
      "Epoch 125/200, Validation Loss: 0.43245734236203126\n"
     ]
    },
    {
     "name": "stderr",
     "output_type": "stream",
     "text": [
      "Epoch 126/200: 100%|██████████| 195/195 [00:02<00:00, 93.48batch/s, loss=0.41]  \n"
     ]
    },
    {
     "name": "stdout",
     "output_type": "stream",
     "text": [
      "Epoch 126/200, Training Loss: 0.4127114138346732\n",
      "Epoch 126/200, Validation Loss: 0.42652607225217076\n"
     ]
    },
    {
     "name": "stderr",
     "output_type": "stream",
     "text": [
      "Epoch 127/200: 100%|██████████| 195/195 [00:02<00:00, 75.39batch/s, loss=0.402] \n"
     ]
    },
    {
     "name": "stdout",
     "output_type": "stream",
     "text": [
      "Epoch 127/200, Training Loss: 0.40457362822068565\n",
      "Epoch 127/200, Validation Loss: 0.4190607768711466\n"
     ]
    },
    {
     "name": "stderr",
     "output_type": "stream",
     "text": [
      "Epoch 128/200: 100%|██████████| 195/195 [00:02<00:00, 93.58batch/s, loss=0.394] \n"
     ]
    },
    {
     "name": "stdout",
     "output_type": "stream",
     "text": [
      "Epoch 128/200, Training Loss: 0.39687027164824223\n",
      "Epoch 128/200, Validation Loss: 0.4115146905615676\n"
     ]
    },
    {
     "name": "stderr",
     "output_type": "stream",
     "text": [
      "Epoch 129/200: 100%|██████████| 195/195 [00:03<00:00, 62.81batch/s, loss=0.387]\n"
     ]
    },
    {
     "name": "stdout",
     "output_type": "stream",
     "text": [
      "Epoch 129/200, Training Loss: 0.38928400456597656\n",
      "Epoch 129/200, Validation Loss: 0.40617320275502494\n"
     ]
    },
    {
     "name": "stderr",
     "output_type": "stream",
     "text": [
      "Epoch 130/200: 100%|██████████| 195/195 [00:01<00:00, 100.02batch/s, loss=0.382]\n"
     ]
    },
    {
     "name": "stdout",
     "output_type": "stream",
     "text": [
      "Epoch 130/200, Training Loss: 0.3845947076662671\n",
      "Epoch 130/200, Validation Loss: 0.39925621628403607\n"
     ]
    },
    {
     "name": "stderr",
     "output_type": "stream",
     "text": [
      "Epoch 131/200: 100%|██████████| 195/195 [00:01<00:00, 101.62batch/s, loss=0.374]\n"
     ]
    },
    {
     "name": "stdout",
     "output_type": "stream",
     "text": [
      "Epoch 131/200, Training Loss: 0.376518992959633\n",
      "Epoch 131/200, Validation Loss: 0.3975303568388879\n"
     ]
    },
    {
     "name": "stderr",
     "output_type": "stream",
     "text": [
      "Epoch 132/200: 100%|██████████| 195/195 [00:02<00:00, 79.00batch/s, loss=0.37] \n"
     ]
    },
    {
     "name": "stdout",
     "output_type": "stream",
     "text": [
      "Epoch 132/200, Training Loss: 0.37248920248910616\n",
      "Epoch 132/200, Validation Loss: 0.3939900962748934\n"
     ]
    },
    {
     "name": "stderr",
     "output_type": "stream",
     "text": [
      "Epoch 133/200: 100%|██████████| 195/195 [00:02<00:00, 90.59batch/s, loss=0.366] \n"
     ]
    },
    {
     "name": "stdout",
     "output_type": "stream",
     "text": [
      "Epoch 133/200, Training Loss: 0.3681078298275816\n",
      "Epoch 133/200, Validation Loss: 0.3841775374432752\n"
     ]
    },
    {
     "name": "stderr",
     "output_type": "stream",
     "text": [
      "Epoch 134/200: 100%|██████████| 195/195 [00:01<00:00, 104.24batch/s, loss=0.364]\n"
     ]
    },
    {
     "name": "stdout",
     "output_type": "stream",
     "text": [
      "Epoch 134/200, Training Loss: 0.36626500956283214\n",
      "Epoch 134/200, Validation Loss: 0.3801739818696087\n"
     ]
    },
    {
     "name": "stderr",
     "output_type": "stream",
     "text": [
      "Epoch 135/200: 100%|██████████| 195/195 [00:02<00:00, 80.37batch/s, loss=0.363]\n"
     ]
    },
    {
     "name": "stdout",
     "output_type": "stream",
     "text": [
      "Epoch 135/200, Training Loss: 0.3652494326009194\n",
      "Epoch 135/200, Validation Loss: 0.3813862093916954\n"
     ]
    },
    {
     "name": "stderr",
     "output_type": "stream",
     "text": [
      "Epoch 136/200: 100%|██████████| 195/195 [00:02<00:00, 97.29batch/s, loss=0.361] \n"
     ]
    },
    {
     "name": "stdout",
     "output_type": "stream",
     "text": [
      "Epoch 136/200, Training Loss: 0.3636097495708827\n",
      "Epoch 136/200, Validation Loss: 0.3797285550243785\n"
     ]
    },
    {
     "name": "stderr",
     "output_type": "stream",
     "text": [
      "Epoch 137/200: 100%|██████████| 195/195 [00:01<00:00, 108.06batch/s, loss=0.359]\n"
     ]
    },
    {
     "name": "stdout",
     "output_type": "stream",
     "text": [
      "Epoch 137/200, Training Loss: 0.3617038998253044\n",
      "Epoch 137/200, Validation Loss: 0.37976997658489375\n"
     ]
    },
    {
     "name": "stderr",
     "output_type": "stream",
     "text": [
      "Epoch 138/200: 100%|██████████| 195/195 [00:02<00:00, 78.11batch/s, loss=0.361]\n"
     ]
    },
    {
     "name": "stdout",
     "output_type": "stream",
     "text": [
      "Epoch 138/200, Training Loss: 0.3647577616065389\n",
      "Epoch 138/200, Validation Loss: 0.39214192933513914\n"
     ]
    },
    {
     "name": "stderr",
     "output_type": "stream",
     "text": [
      "Epoch 139/200: 100%|██████████| 195/195 [00:02<00:00, 97.03batch/s, loss=0.366] \n"
     ]
    },
    {
     "name": "stdout",
     "output_type": "stream",
     "text": [
      "Epoch 139/200, Training Loss: 0.36801385786653223\n",
      "Epoch 139/200, Validation Loss: 0.3816304837830321\n"
     ]
    },
    {
     "name": "stderr",
     "output_type": "stream",
     "text": [
      "Epoch 140/200: 100%|██████████| 195/195 [00:01<00:00, 114.97batch/s, loss=0.359]\n"
     ]
    },
    {
     "name": "stdout",
     "output_type": "stream",
     "text": [
      "Epoch 140/200, Training Loss: 0.36121933354993024\n",
      "Epoch 140/200, Validation Loss: 0.37553303358815626\n"
     ]
    },
    {
     "name": "stderr",
     "output_type": "stream",
     "text": [
      "Epoch 141/200: 100%|██████████| 195/195 [00:02<00:00, 78.56batch/s, loss=0.356]\n"
     ]
    },
    {
     "name": "stdout",
     "output_type": "stream",
     "text": [
      "Epoch 141/200, Training Loss: 0.358774452085493\n",
      "Epoch 141/200, Validation Loss: 0.3803624279753372\n"
     ]
    },
    {
     "name": "stderr",
     "output_type": "stream",
     "text": [
      "Epoch 142/200: 100%|██████████| 195/195 [00:02<00:00, 85.60batch/s, loss=0.357] \n"
     ]
    },
    {
     "name": "stdout",
     "output_type": "stream",
     "text": [
      "Epoch 142/200, Training Loss: 0.3595681988644149\n",
      "Epoch 142/200, Validation Loss: 0.3752900900091375\n"
     ]
    },
    {
     "name": "stderr",
     "output_type": "stream",
     "text": [
      "Epoch 143/200: 100%|██████████| 195/195 [00:01<00:00, 98.42batch/s, loss=0.352] \n"
     ]
    },
    {
     "name": "stdout",
     "output_type": "stream",
     "text": [
      "Epoch 143/200, Training Loss: 0.35461489727677026\n",
      "Epoch 143/200, Validation Loss: 0.3697489712696306\n"
     ]
    },
    {
     "name": "stderr",
     "output_type": "stream",
     "text": [
      "Epoch 144/200: 100%|██████████| 195/195 [00:02<00:00, 84.47batch/s, loss=0.355]\n"
     ]
    },
    {
     "name": "stdout",
     "output_type": "stream",
     "text": [
      "Epoch 144/200, Training Loss: 0.3570160952324679\n",
      "Epoch 144/200, Validation Loss: 0.37083229760045705\n"
     ]
    },
    {
     "name": "stderr",
     "output_type": "stream",
     "text": [
      "Epoch 145/200: 100%|██████████| 195/195 [00:02<00:00, 91.69batch/s, loss=0.352] \n"
     ]
    },
    {
     "name": "stdout",
     "output_type": "stream",
     "text": [
      "Epoch 145/200, Training Loss: 0.3546852515648497\n",
      "Epoch 145/200, Validation Loss: 0.35629471969822696\n"
     ]
    },
    {
     "name": "stderr",
     "output_type": "stream",
     "text": [
      "Epoch 146/200: 100%|██████████| 195/195 [00:02<00:00, 95.94batch/s, loss=0.354] \n"
     ]
    },
    {
     "name": "stdout",
     "output_type": "stream",
     "text": [
      "Epoch 146/200, Training Loss: 0.3570689610032071\n",
      "Epoch 146/200, Validation Loss: 0.35237227541033556\n"
     ]
    },
    {
     "name": "stderr",
     "output_type": "stream",
     "text": [
      "Epoch 147/200: 100%|██████████| 195/195 [00:02<00:00, 94.22batch/s, loss=0.351] \n"
     ]
    },
    {
     "name": "stdout",
     "output_type": "stream",
     "text": [
      "Epoch 147/200, Training Loss: 0.3538014796771503\n",
      "Epoch 147/200, Validation Loss: 0.35162979161430663\n"
     ]
    },
    {
     "name": "stderr",
     "output_type": "stream",
     "text": [
      "Epoch 148/200: 100%|██████████| 195/195 [00:02<00:00, 90.00batch/s, loss=0.376] \n"
     ]
    },
    {
     "name": "stdout",
     "output_type": "stream",
     "text": [
      "Epoch 148/200, Training Loss: 0.3792739759973983\n",
      "Epoch 148/200, Validation Loss: 0.36431829561882034\n"
     ]
    },
    {
     "name": "stderr",
     "output_type": "stream",
     "text": [
      "Epoch 149/200: 100%|██████████| 195/195 [00:02<00:00, 95.28batch/s, loss=0.353] \n"
     ]
    },
    {
     "name": "stdout",
     "output_type": "stream",
     "text": [
      "Epoch 149/200, Training Loss: 0.355514590208406\n",
      "Epoch 149/200, Validation Loss: 0.3557158696116714\n"
     ]
    },
    {
     "name": "stderr",
     "output_type": "stream",
     "text": [
      "Epoch 150/200: 100%|██████████| 195/195 [00:02<00:00, 83.37batch/s, loss=0.35] \n"
     ]
    },
    {
     "name": "stdout",
     "output_type": "stream",
     "text": [
      "Epoch 150/200, Training Loss: 0.35346689897483696\n",
      "Epoch 150/200, Validation Loss: 0.3572359664403629\n"
     ]
    },
    {
     "name": "stderr",
     "output_type": "stream",
     "text": [
      "Epoch 151/200: 100%|██████████| 195/195 [00:01<00:00, 100.38batch/s, loss=0.348]\n"
     ]
    },
    {
     "name": "stdout",
     "output_type": "stream",
     "text": [
      "Epoch 151/200, Training Loss: 0.3511821844725529\n",
      "Epoch 151/200, Validation Loss: 0.35814428924301706\n"
     ]
    },
    {
     "name": "stderr",
     "output_type": "stream",
     "text": [
      "Epoch 152/200: 100%|██████████| 195/195 [00:01<00:00, 104.25batch/s, loss=0.344]\n"
     ]
    },
    {
     "name": "stdout",
     "output_type": "stream",
     "text": [
      "Epoch 152/200, Training Loss: 0.346623938644594\n",
      "Epoch 152/200, Validation Loss: 0.34985211012023826\n"
     ]
    },
    {
     "name": "stderr",
     "output_type": "stream",
     "text": [
      "Epoch 153/200: 100%|██████████| 195/195 [00:02<00:00, 83.01batch/s, loss=0.341]\n"
     ]
    },
    {
     "name": "stdout",
     "output_type": "stream",
     "text": [
      "Epoch 153/200, Training Loss: 0.3442115796614047\n",
      "Epoch 153/200, Validation Loss: 0.345218402059897\n"
     ]
    },
    {
     "name": "stderr",
     "output_type": "stream",
     "text": [
      "Epoch 154/200: 100%|██████████| 195/195 [00:02<00:00, 85.87batch/s, loss=0.802] \n"
     ]
    },
    {
     "name": "stdout",
     "output_type": "stream",
     "text": [
      "Epoch 154/200, Training Loss: 0.8050651122941701\n",
      "Epoch 154/200, Validation Loss: 0.9416180632424758\n"
     ]
    },
    {
     "name": "stderr",
     "output_type": "stream",
     "text": [
      "Epoch 155/200: 100%|██████████| 195/195 [00:02<00:00, 69.80batch/s, loss=0.827]\n"
     ]
    },
    {
     "name": "stdout",
     "output_type": "stream",
     "text": [
      "Epoch 155/200, Training Loss: 0.8303079292595993\n",
      "Epoch 155/200, Validation Loss: 0.7710721974711402\n"
     ]
    },
    {
     "name": "stderr",
     "output_type": "stream",
     "text": [
      "Epoch 156/200: 100%|██████████| 195/195 [00:02<00:00, 88.18batch/s, loss=0.732] \n"
     ]
    },
    {
     "name": "stdout",
     "output_type": "stream",
     "text": [
      "Epoch 156/200, Training Loss: 0.7349448347449897\n",
      "Epoch 156/200, Validation Loss: 0.6874350858798203\n"
     ]
    },
    {
     "name": "stderr",
     "output_type": "stream",
     "text": [
      "Epoch 157/200: 100%|██████████| 195/195 [00:02<00:00, 81.10batch/s, loss=0.655] \n"
     ]
    },
    {
     "name": "stdout",
     "output_type": "stream",
     "text": [
      "Epoch 157/200, Training Loss: 0.6578516578151384\n",
      "Epoch 157/200, Validation Loss: 0.6112892602619778\n"
     ]
    },
    {
     "name": "stderr",
     "output_type": "stream",
     "text": [
      "Epoch 158/200: 100%|██████████| 195/195 [00:01<00:00, 99.67batch/s, loss=0.581] \n"
     ]
    },
    {
     "name": "stdout",
     "output_type": "stream",
     "text": [
      "Epoch 158/200, Training Loss: 0.5832763256251909\n",
      "Epoch 158/200, Validation Loss: 0.5374565547141398\n"
     ]
    },
    {
     "name": "stderr",
     "output_type": "stream",
     "text": [
      "Epoch 159/200: 100%|██████████| 195/195 [00:02<00:00, 69.56batch/s, loss=0.51] \n"
     ]
    },
    {
     "name": "stdout",
     "output_type": "stream",
     "text": [
      "Epoch 159/200, Training Loss: 0.512612327722383\n",
      "Epoch 159/200, Validation Loss: 0.48066746415882483\n"
     ]
    },
    {
     "name": "stderr",
     "output_type": "stream",
     "text": [
      "Epoch 160/200: 100%|██████████| 195/195 [00:02<00:00, 86.13batch/s, loss=0.464] \n"
     ]
    },
    {
     "name": "stdout",
     "output_type": "stream",
     "text": [
      "Epoch 160/200, Training Loss: 0.46681478405826976\n",
      "Epoch 160/200, Validation Loss: 0.4426154273478348\n"
     ]
    },
    {
     "name": "stderr",
     "output_type": "stream",
     "text": [
      "Epoch 161/200: 100%|██████████| 195/195 [00:02<00:00, 87.69batch/s, loss=0.447]\n"
     ]
    },
    {
     "name": "stdout",
     "output_type": "stream",
     "text": [
      "Epoch 161/200, Training Loss: 0.4492404431213607\n",
      "Epoch 161/200, Validation Loss: 0.4461547809807925\n"
     ]
    },
    {
     "name": "stderr",
     "output_type": "stream",
     "text": [
      "Epoch 162/200: 100%|██████████| 195/195 [00:02<00:00, 81.53batch/s, loss=0.431] \n"
     ]
    },
    {
     "name": "stdout",
     "output_type": "stream",
     "text": [
      "Epoch 162/200, Training Loss: 0.43322330754801297\n",
      "Epoch 162/200, Validation Loss: 0.42337713688512274\n"
     ]
    },
    {
     "name": "stderr",
     "output_type": "stream",
     "text": [
      "Epoch 163/200: 100%|██████████| 195/195 [00:02<00:00, 87.61batch/s, loss=0.417]\n"
     ]
    },
    {
     "name": "stdout",
     "output_type": "stream",
     "text": [
      "Epoch 163/200, Training Loss: 0.42006405570678573\n",
      "Epoch 163/200, Validation Loss: 0.41839842053147575\n"
     ]
    },
    {
     "name": "stderr",
     "output_type": "stream",
     "text": [
      "Epoch 164/200: 100%|██████████| 195/195 [00:02<00:00, 92.23batch/s, loss=0.413] \n"
     ]
    },
    {
     "name": "stdout",
     "output_type": "stream",
     "text": [
      "Epoch 164/200, Training Loss: 0.4155292197871771\n",
      "Epoch 164/200, Validation Loss: 0.4099567316563849\n"
     ]
    },
    {
     "name": "stderr",
     "output_type": "stream",
     "text": [
      "Epoch 165/200: 100%|██████████| 195/195 [00:02<00:00, 75.42batch/s, loss=0.408]\n"
     ]
    },
    {
     "name": "stdout",
     "output_type": "stream",
     "text": [
      "Epoch 165/200, Training Loss: 0.4107953776483311\n",
      "Epoch 165/200, Validation Loss: 0.4025035105490542\n"
     ]
    },
    {
     "name": "stderr",
     "output_type": "stream",
     "text": [
      "Epoch 166/200: 100%|██████████| 195/195 [00:02<00:00, 92.83batch/s, loss=0.406] \n"
     ]
    },
    {
     "name": "stdout",
     "output_type": "stream",
     "text": [
      "Epoch 166/200, Training Loss: 0.40821200225169746\n",
      "Epoch 166/200, Validation Loss: 0.41529831791257626\n"
     ]
    },
    {
     "name": "stderr",
     "output_type": "stream",
     "text": [
      "Epoch 167/200: 100%|██████████| 195/195 [00:02<00:00, 84.21batch/s, loss=0.41] \n"
     ]
    },
    {
     "name": "stdout",
     "output_type": "stream",
     "text": [
      "Epoch 167/200, Training Loss: 0.4120772869901643\n",
      "Epoch 167/200, Validation Loss: 0.40425494126040806\n"
     ]
    },
    {
     "name": "stderr",
     "output_type": "stream",
     "text": [
      "Epoch 168/200: 100%|██████████| 195/195 [00:02<00:00, 87.67batch/s, loss=0.401] \n"
     ]
    },
    {
     "name": "stdout",
     "output_type": "stream",
     "text": [
      "Epoch 168/200, Training Loss: 0.40326289182749825\n",
      "Epoch 168/200, Validation Loss: 0.40664862772901067\n"
     ]
    },
    {
     "name": "stderr",
     "output_type": "stream",
     "text": [
      "Epoch 169/200: 100%|██████████| 195/195 [00:01<00:00, 101.30batch/s, loss=0.407]\n"
     ]
    },
    {
     "name": "stdout",
     "output_type": "stream",
     "text": [
      "Epoch 169/200, Training Loss: 0.4093218062423921\n",
      "Epoch 169/200, Validation Loss: 0.39889047050262516\n"
     ]
    },
    {
     "name": "stderr",
     "output_type": "stream",
     "text": [
      "Epoch 170/200: 100%|██████████| 195/195 [00:02<00:00, 77.96batch/s, loss=0.395]\n"
     ]
    },
    {
     "name": "stdout",
     "output_type": "stream",
     "text": [
      "Epoch 170/200, Training Loss: 0.3977684727720359\n",
      "Epoch 170/200, Validation Loss: 0.3930850479707994\n"
     ]
    },
    {
     "name": "stderr",
     "output_type": "stream",
     "text": [
      "Epoch 171/200: 100%|██████████| 195/195 [00:02<00:00, 84.74batch/s, loss=0.416]\n"
     ]
    },
    {
     "name": "stdout",
     "output_type": "stream",
     "text": [
      "Epoch 171/200, Training Loss: 0.4187888786046839\n",
      "Epoch 171/200, Validation Loss: 0.4026623766123373\n"
     ]
    },
    {
     "name": "stderr",
     "output_type": "stream",
     "text": [
      "Epoch 172/200: 100%|██████████| 195/195 [00:02<00:00, 95.01batch/s, loss=0.388]\n"
     ]
    },
    {
     "name": "stdout",
     "output_type": "stream",
     "text": [
      "Epoch 172/200, Training Loss: 0.39026224043090507\n",
      "Epoch 172/200, Validation Loss: 0.38080935042332453\n"
     ]
    },
    {
     "name": "stderr",
     "output_type": "stream",
     "text": [
      "Epoch 173/200: 100%|██████████| 195/195 [00:02<00:00, 83.60batch/s, loss=0.378]\n"
     ]
    },
    {
     "name": "stdout",
     "output_type": "stream",
     "text": [
      "Epoch 173/200, Training Loss: 0.380329880307691\n",
      "Epoch 173/200, Validation Loss: 0.3778577380196557\n"
     ]
    },
    {
     "name": "stderr",
     "output_type": "stream",
     "text": [
      "Epoch 174/200: 100%|██████████| 195/195 [00:02<00:00, 83.75batch/s, loss=1.94]\n"
     ]
    },
    {
     "name": "stdout",
     "output_type": "stream",
     "text": [
      "Epoch 174/200, Training Loss: 1.9477312417170076\n",
      "Epoch 174/200, Validation Loss: 1.1831282662399687\n"
     ]
    },
    {
     "name": "stderr",
     "output_type": "stream",
     "text": [
      "Epoch 175/200: 100%|██████████| 195/195 [00:02<00:00, 95.95batch/s, loss=1.14]\n"
     ]
    },
    {
     "name": "stdout",
     "output_type": "stream",
     "text": [
      "Epoch 175/200, Training Loss: 1.1467713065438208\n",
      "Epoch 175/200, Validation Loss: 1.0939988196853727\n"
     ]
    },
    {
     "name": "stderr",
     "output_type": "stream",
     "text": [
      "Epoch 176/200: 100%|██████████| 195/195 [00:02<00:00, 73.82batch/s, loss=1.1] \n"
     ]
    },
    {
     "name": "stdout",
     "output_type": "stream",
     "text": [
      "Epoch 176/200, Training Loss: 1.1037082940325207\n",
      "Epoch 176/200, Validation Loss: 1.0663680721639759\n"
     ]
    },
    {
     "name": "stderr",
     "output_type": "stream",
     "text": [
      "Epoch 177/200: 100%|██████████| 195/195 [00:02<00:00, 92.86batch/s, loss=1.07] \n"
     ]
    },
    {
     "name": "stdout",
     "output_type": "stream",
     "text": [
      "Epoch 177/200, Training Loss: 1.0816551738443942\n",
      "Epoch 177/200, Validation Loss: 1.0527240648302554\n"
     ]
    },
    {
     "name": "stderr",
     "output_type": "stream",
     "text": [
      "Epoch 178/200: 100%|██████████| 195/195 [00:02<00:00, 84.75batch/s, loss=1.07]\n"
     ]
    },
    {
     "name": "stdout",
     "output_type": "stream",
     "text": [
      "Epoch 178/200, Training Loss: 1.077238264511324\n",
      "Epoch 178/200, Validation Loss: 1.0324545176250408\n"
     ]
    },
    {
     "name": "stderr",
     "output_type": "stream",
     "text": [
      "Epoch 179/200: 100%|██████████| 195/195 [00:02<00:00, 76.16batch/s, loss=1.05] \n"
     ]
    },
    {
     "name": "stdout",
     "output_type": "stream",
     "text": [
      "Epoch 179/200, Training Loss: 1.0545674559090648\n",
      "Epoch 179/200, Validation Loss: 1.0252955071941061\n"
     ]
    },
    {
     "name": "stderr",
     "output_type": "stream",
     "text": [
      "Epoch 180/200: 100%|██████████| 195/195 [00:01<00:00, 101.45batch/s, loss=1.04]\n"
     ]
    },
    {
     "name": "stdout",
     "output_type": "stream",
     "text": [
      "Epoch 180/200, Training Loss: 1.0483933490810373\n",
      "Epoch 180/200, Validation Loss: 1.0212783892296093\n"
     ]
    },
    {
     "name": "stderr",
     "output_type": "stream",
     "text": [
      "Epoch 181/200: 100%|██████████| 195/195 [00:02<00:00, 82.67batch/s, loss=1.04]\n"
     ]
    },
    {
     "name": "stdout",
     "output_type": "stream",
     "text": [
      "Epoch 181/200, Training Loss: 1.04404596555391\n",
      "Epoch 181/200, Validation Loss: 1.016776851401646\n"
     ]
    },
    {
     "name": "stderr",
     "output_type": "stream",
     "text": [
      "Epoch 182/200: 100%|██████████| 195/195 [00:02<00:00, 90.44batch/s, loss=1.03] \n"
     ]
    },
    {
     "name": "stdout",
     "output_type": "stream",
     "text": [
      "Epoch 182/200, Training Loss: 1.039651378978714\n",
      "Epoch 182/200, Validation Loss: 1.013310325896169\n"
     ]
    },
    {
     "name": "stderr",
     "output_type": "stream",
     "text": [
      "Epoch 183/200: 100%|██████████| 195/195 [00:01<00:00, 113.23batch/s, loss=1.03]\n"
     ]
    },
    {
     "name": "stdout",
     "output_type": "stream",
     "text": [
      "Epoch 183/200, Training Loss: 1.0361900060628766\n",
      "Epoch 183/200, Validation Loss: 1.009533813025805\n"
     ]
    },
    {
     "name": "stderr",
     "output_type": "stream",
     "text": [
      "Epoch 184/200: 100%|██████████| 195/195 [00:01<00:00, 144.04batch/s, loss=1.03]\n"
     ]
    },
    {
     "name": "stdout",
     "output_type": "stream",
     "text": [
      "Epoch 184/200, Training Loss: 1.0329507791017525\n",
      "Epoch 184/200, Validation Loss: 1.0065394260038725\n"
     ]
    },
    {
     "name": "stderr",
     "output_type": "stream",
     "text": [
      "Epoch 185/200: 100%|██████████| 195/195 [00:01<00:00, 103.46batch/s, loss=1.02]\n"
     ]
    },
    {
     "name": "stdout",
     "output_type": "stream",
     "text": [
      "Epoch 185/200, Training Loss: 1.0302250976694587\n",
      "Epoch 185/200, Validation Loss: 1.0039354537981964\n"
     ]
    },
    {
     "name": "stderr",
     "output_type": "stream",
     "text": [
      "Epoch 186/200: 100%|██████████| 195/195 [00:02<00:00, 79.10batch/s, loss=1.02]\n"
     ]
    },
    {
     "name": "stdout",
     "output_type": "stream",
     "text": [
      "Epoch 186/200, Training Loss: 1.0278953598314813\n",
      "Epoch 186/200, Validation Loss: 1.001661013962272\n"
     ]
    },
    {
     "name": "stderr",
     "output_type": "stream",
     "text": [
      "Epoch 187/200: 100%|██████████| 195/195 [00:02<00:00, 71.36batch/s, loss=1.02] \n"
     ]
    },
    {
     "name": "stdout",
     "output_type": "stream",
     "text": [
      "Epoch 187/200, Training Loss: 1.025830818292811\n",
      "Epoch 187/200, Validation Loss: 0.9996266107656699\n"
     ]
    },
    {
     "name": "stderr",
     "output_type": "stream",
     "text": [
      "Epoch 188/200: 100%|██████████| 195/195 [00:01<00:00, 97.69batch/s, loss=1.02] \n"
     ]
    },
    {
     "name": "stdout",
     "output_type": "stream",
     "text": [
      "Epoch 188/200, Training Loss: 1.0240043692691403\n",
      "Epoch 188/200, Validation Loss: 0.9976916408389702\n"
     ]
    },
    {
     "name": "stderr",
     "output_type": "stream",
     "text": [
      "Epoch 189/200: 100%|██████████| 195/195 [00:02<00:00, 76.30batch/s, loss=1.02]\n"
     ]
    },
    {
     "name": "stdout",
     "output_type": "stream",
     "text": [
      "Epoch 189/200, Training Loss: 1.0220445900115565\n",
      "Epoch 189/200, Validation Loss: 0.9959510967065692\n"
     ]
    },
    {
     "name": "stderr",
     "output_type": "stream",
     "text": [
      "Epoch 190/200: 100%|██████████| 195/195 [00:01<00:00, 99.39batch/s, loss=1.01] \n"
     ]
    },
    {
     "name": "stdout",
     "output_type": "stream",
     "text": [
      "Epoch 190/200, Training Loss: 1.0204375000318107\n",
      "Epoch 190/200, Validation Loss: 0.9944517990835843\n"
     ]
    },
    {
     "name": "stderr",
     "output_type": "stream",
     "text": [
      "Epoch 191/200: 100%|██████████| 195/195 [00:02<00:00, 73.37batch/s, loss=1.01] \n"
     ]
    },
    {
     "name": "stdout",
     "output_type": "stream",
     "text": [
      "Epoch 191/200, Training Loss: 1.0191418932245346\n",
      "Epoch 191/200, Validation Loss: 0.9929625521529348\n"
     ]
    },
    {
     "name": "stderr",
     "output_type": "stream",
     "text": [
      "Epoch 192/200: 100%|██████████| 195/195 [00:02<00:00, 82.98batch/s, loss=1.01]\n"
     ]
    },
    {
     "name": "stdout",
     "output_type": "stream",
     "text": [
      "Epoch 192/200, Training Loss: 1.0179419359015145\n",
      "Epoch 192/200, Validation Loss: 0.9916829125057306\n"
     ]
    },
    {
     "name": "stderr",
     "output_type": "stream",
     "text": [
      "Epoch 193/200: 100%|██████████| 195/195 [00:02<00:00, 96.94batch/s, loss=1.01] \n"
     ]
    },
    {
     "name": "stdout",
     "output_type": "stream",
     "text": [
      "Epoch 193/200, Training Loss: 1.0168823023457656\n",
      "Epoch 193/200, Validation Loss: 0.990402893486556\n"
     ]
    },
    {
     "name": "stderr",
     "output_type": "stream",
     "text": [
      "Epoch 194/200: 100%|██████████| 195/195 [00:01<00:00, 99.02batch/s, loss=1.01] \n"
     ]
    },
    {
     "name": "stdout",
     "output_type": "stream",
     "text": [
      "Epoch 194/200, Training Loss: 1.0156218063742102\n",
      "Epoch 194/200, Validation Loss: 0.9892721217484787\n"
     ]
    },
    {
     "name": "stderr",
     "output_type": "stream",
     "text": [
      "Epoch 195/200: 100%|██████████| 195/195 [00:02<00:00, 92.31batch/s, loss=1.01] \n"
     ]
    },
    {
     "name": "stdout",
     "output_type": "stream",
     "text": [
      "Epoch 195/200, Training Loss: 1.0146388006362246\n",
      "Epoch 195/200, Validation Loss: 0.9881993338354593\n"
     ]
    },
    {
     "name": "stderr",
     "output_type": "stream",
     "text": [
      "Epoch 196/200: 100%|██████████| 195/195 [00:02<00:00, 88.66batch/s, loss=1.01] \n"
     ]
    },
    {
     "name": "stdout",
     "output_type": "stream",
     "text": [
      "Epoch 196/200, Training Loss: 1.0153791492723965\n",
      "Epoch 196/200, Validation Loss: 0.9885046685870374\n"
     ]
    },
    {
     "name": "stderr",
     "output_type": "stream",
     "text": [
      "Epoch 197/200: 100%|██████████| 195/195 [00:01<00:00, 114.12batch/s, loss=1.01]\n"
     ]
    },
    {
     "name": "stdout",
     "output_type": "stream",
     "text": [
      "Epoch 197/200, Training Loss: 1.0147504019667775\n",
      "Epoch 197/200, Validation Loss: 0.9880415034907413\n"
     ]
    },
    {
     "name": "stderr",
     "output_type": "stream",
     "text": [
      "Epoch 198/200: 100%|██████████| 195/195 [00:02<00:00, 81.59batch/s, loss=1.01]\n"
     ]
    },
    {
     "name": "stdout",
     "output_type": "stream",
     "text": [
      "Epoch 198/200, Training Loss: 1.0137500600296936\n",
      "Epoch 198/200, Validation Loss: 0.9876308391990996\n"
     ]
    },
    {
     "name": "stderr",
     "output_type": "stream",
     "text": [
      "Epoch 199/200: 100%|██████████| 195/195 [00:02<00:00, 83.98batch/s, loss=1.01] \n"
     ]
    },
    {
     "name": "stdout",
     "output_type": "stream",
     "text": [
      "Epoch 199/200, Training Loss: 1.0132715156721797\n",
      "Epoch 199/200, Validation Loss: 0.9871926327478059\n"
     ]
    },
    {
     "name": "stderr",
     "output_type": "stream",
     "text": [
      "Epoch 200/200: 100%|██████████| 195/195 [00:02<00:00, 93.66batch/s, loss=1.01] \n"
     ]
    },
    {
     "name": "stdout",
     "output_type": "stream",
     "text": [
      "Epoch 200/200, Training Loss: 1.0128483811912001\n",
      "Epoch 200/200, Validation Loss: 0.986769754881397\n"
     ]
    },
    {
     "data": {
      "image/png": "[encoded data removed]",
      "text/plain": [
       "<Figure size 640x480 with 1 Axes>"
      ]
     },
     "metadata": {},
     "output_type": "display_data"
    }
   ],
   "source": [
    "### START CODE HERE ###\n",
    "# Construct the model & Set the parameters.\n",
    "input_size = 6  # Number of input features (1 for single sine wave value)\n",
    "rnn_units = 64  # Number of units in the RNN layer\n",
    "dense_units = 32  # Number of units in the Dense layer\n",
    "output_size = 3  # Number of output classes\n",
    "lr_decay_step = 80\n",
    "lr_decay = 0.3\n",
    "\n",
    "model = Model()\n",
    "model.add(RNN(input_size, rnn_units))\n",
    "model.add(Flatten())\n",
    "model.add(Dense(rnn_units, dense_units))\n",
    "model.add(Activation(\"relu\", None))\n",
    "model.add(Dense(dense_units, output_size))\n",
    "model.add(Activation(\"softmax\", None))\n",
    "# Train the model\n",
    "model.train(X_train, y_train, X_val, y_val, epochs=150, learning_rate=0.003, batch_size = 32, loss_function='cce', lr_decay_step=lr_decay_step, lr_decay=lr_decay)\n",
    "\n",
    "### END CODE HERE ###\n",
    "# Plot the training and validation losses\n",
    "model.plot_losses()"
   ]
  },
  {
   "cell_type": "markdown",
   "metadata": {
    "id": "_43jkUMbJKsR"
   },
   "source": [
    "### 4. Predict the output and Save it\n",
    "Remember to submit `y_pred.csv` to Kaggle!"
   ]
  },
  {
   "cell_type": "code",
   "execution_count": 20,
   "metadata": {
    "id": "detzXpDb8mQn"
   },
   "outputs": [],
   "source": [
    "# Do not modify this part to get the correct output format!!\n",
    "y_pred = model.predict(X_test)\n",
    "y_pred_classes = np.argmax(y_pred, axis=1)\n",
    "# Save the predicted classes to a CSV file\n",
    "y_pred_df = pd.DataFrame({\n",
    "    'Id': np.arange(len(y_pred_classes)),\n",
    "    'Classes': y_pred_classes\n",
    "})\n",
    "\n",
    "# Save the DataFrame to a CSV file\n",
    "y_pred_df.to_csv('y_pred_advanced.csv', index=False)"
   ]
  }
 ],
 "metadata": {
  "colab": {
   "provenance": []
  },
  "kernelspec": {
   "display_name": "Python 3",
   "name": "python3"
  },
  "language_info": {
   "codemirror_mode": {
    "name": "ipython",
    "version": 3
   },
   "file_extension": ".py",
   "mimetype": "text/x-python",
   "name": "python",
   "nbconvert_exporter": "python",
   "pygments_lexer": "ipython3",
   "version": "3.12.8"
  }
 },
 "nbformat": 4,
 "nbformat_minor": 0
}
